{
 "cells": [
  {
   "cell_type": "code",
   "execution_count": 4,
   "id": "755d35ad-9ce5-4b85-b2ca-e1c0c62cebdb",
   "metadata": {},
   "outputs": [
    {
     "data": {
      "text/plain": [
       "bool"
      ]
     },
     "execution_count": 4,
     "metadata": {},
     "output_type": "execute_result"
    }
   ],
   "source": [
    "type(False)"
   ]
  },
  {
   "cell_type": "code",
   "execution_count": 5,
   "id": "4ed6fb9f-0f92-4c8c-bc0a-5e6f4c8cc866",
   "metadata": {},
   "outputs": [
    {
     "data": {
      "text/plain": [
       "bool"
      ]
     },
     "execution_count": 5,
     "metadata": {},
     "output_type": "execute_result"
    }
   ],
   "source": [
    "type(True)"
   ]
  },
  {
   "cell_type": "code",
   "execution_count": 6,
   "id": "dca2e549-7111-40ff-80ce-4fdbe0bd8f5e",
   "metadata": {},
   "outputs": [
    {
     "data": {
      "text/plain": [
       "True"
      ]
     },
     "execution_count": 6,
     "metadata": {},
     "output_type": "execute_result"
    }
   ],
   "source": [
    "bool(1)"
   ]
  },
  {
   "cell_type": "code",
   "execution_count": 7,
   "id": "9cb39fae-eb28-4342-b324-5827602d34a4",
   "metadata": {},
   "outputs": [
    {
     "data": {
      "text/plain": [
       "False"
      ]
     },
     "execution_count": 7,
     "metadata": {},
     "output_type": "execute_result"
    }
   ],
   "source": [
    "bool(0)"
   ]
  },
  {
   "cell_type": "code",
   "execution_count": 8,
   "id": "f8688b23-f35a-41b4-9144-116841f851f8",
   "metadata": {},
   "outputs": [
    {
     "data": {
      "text/plain": [
       "False"
      ]
     },
     "execution_count": 8,
     "metadata": {},
     "output_type": "execute_result"
    }
   ],
   "source": [
    "True and False"
   ]
  },
  {
   "cell_type": "code",
   "execution_count": 10,
   "id": "f238e965-0d8e-4ec4-8c20-45e8e1c01143",
   "metadata": {},
   "outputs": [
    {
     "data": {
      "text/plain": [
       "True"
      ]
     },
     "execution_count": 10,
     "metadata": {},
     "output_type": "execute_result"
    }
   ],
   "source": [
    "True or False"
   ]
  },
  {
   "cell_type": "code",
   "execution_count": 11,
   "id": "2d436266-ff0e-40ad-835a-c75db9b3c611",
   "metadata": {},
   "outputs": [
    {
     "data": {
      "text/plain": [
       "False"
      ]
     },
     "execution_count": 11,
     "metadata": {},
     "output_type": "execute_result"
    }
   ],
   "source": [
    "not True"
   ]
  },
  {
   "cell_type": "code",
   "execution_count": 16,
   "id": "1ed17fd4-7957-4c4e-8226-9bf94b0a66b1",
   "metadata": {},
   "outputs": [
    {
     "name": "stdout",
     "output_type": "stream",
     "text": [
      "Enter your age 6\n"
     ]
    },
    {
     "name": "stdout",
     "output_type": "stream",
     "text": [
      "prints even if 1 condition satisfies\n"
     ]
    }
   ],
   "source": [
    "age = int(input(\"Enter your age\"))\n",
    "if(age < 18 or age >= 35):\n",
    "    print(\"prints even if 1 condition satisfies\")"
   ]
  },
  {
   "cell_type": "code",
   "execution_count": 18,
   "id": "a3101f2c-42d3-4c61-a66e-721fa762da50",
   "metadata": {},
   "outputs": [
    {
     "name": "stdout",
     "output_type": "stream",
     "text": [
      "Enter your age 18\n"
     ]
    },
    {
     "name": "stdout",
     "output_type": "stream",
     "text": [
      "You are 18\n"
     ]
    }
   ],
   "source": [
    "age = int(input(\"Enter your age\"))\n",
    "if age == 18:\n",
    "    print(\"You are 18\")"
   ]
  },
  {
   "cell_type": "code",
   "execution_count": 22,
   "id": "5fca3773-3e58-4fc4-8bfa-ddc3b8ff88ca",
   "metadata": {},
   "outputs": [
    {
     "name": "stdout",
     "output_type": "stream",
     "text": [
      "1537761387328\n",
      "1537761387328\n"
     ]
    }
   ],
   "source": [
    "#euality operators\n",
    "a = \"vimmy\"\n",
    "b = \"vimmy\"\n",
    "print(id(a))\n",
    "print(id(b))"
   ]
  },
  {
   "cell_type": "code",
   "execution_count": 20,
   "id": "81416146-833e-49f9-ae65-5a743fdedf29",
   "metadata": {},
   "outputs": [
    {
     "data": {
      "text/plain": [
       "True"
      ]
     },
     "execution_count": 20,
     "metadata": {},
     "output_type": "execute_result"
    }
   ],
   "source": [
    "a is b"
   ]
  },
  {
   "cell_type": "code",
   "execution_count": null,
   "id": "a3f4972c-7ea9-4ec1-aa2d-bb796b991eb6",
   "metadata": {},
   "outputs": [
    {
     "name": "stdout",
     "output_type": "stream",
     "text": [
      "1537848621440\n",
      "1537848622656\n"
     ]
    }
   ],
   "source": [
    "#for collection is different\n",
    "lst = [1,2,3]\n",
    "lstt = [1,2,3]\n",
    "print(id(lst))\n",
    "print(id(lstt))"
   ]
  },
  {
   "cell_type": "code",
   "execution_count": 23,
   "id": "39813f77-cfdf-4750-8d54-63bd56750b0b",
   "metadata": {},
   "outputs": [
    {
     "data": {
      "text/plain": [
       "False"
      ]
     },
     "execution_count": 23,
     "metadata": {},
     "output_type": "execute_result"
    }
   ],
   "source": [
    "lst is lstt"
   ]
  },
  {
   "cell_type": "code",
   "execution_count": 24,
   "id": "678f8217-aa6c-46ac-a2b3-6278f267333f",
   "metadata": {},
   "outputs": [
    {
     "data": {
      "text/plain": [
       "True"
      ]
     },
     "execution_count": 24,
     "metadata": {},
     "output_type": "execute_result"
    }
   ],
   "source": [
    "lst is not lstt"
   ]
  },
  {
   "cell_type": "code",
   "execution_count": 28,
   "id": "4ec30db7-7e82-4cd5-a3da-85269bd6e435",
   "metadata": {},
   "outputs": [
    {
     "name": "stdout",
     "output_type": "stream",
     "text": [
      "Enter your marks 66\n"
     ]
    },
    {
     "name": "stdout",
     "output_type": "stream",
     "text": [
      "pass\n",
      "First\n"
     ]
    }
   ],
   "source": [
    "marks = int(input(\"Enter your marks\"))\n",
    "if(marks > 35):\n",
    "    print(\"pass\")\n",
    "    if(marks >= 50 and marks <= 70):\n",
    "        print(\"First\")\n",
    "else:\n",
    "    print(\"Fail\")"
   ]
  },
  {
   "cell_type": "code",
   "execution_count": null,
   "id": "e3a99ffc-5e62-4751-b743-e01a25648078",
   "metadata": {},
   "outputs": [],
   "source": [
    "#arithematic + - * / // %"
   ]
  }
 ],
 "metadata": {
  "kernelspec": {
   "display_name": "Python [conda env:base] *",
   "language": "python",
   "name": "conda-base-py"
  },
  "language_info": {
   "codemirror_mode": {
    "name": "ipython",
    "version": 3
   },
   "file_extension": ".py",
   "mimetype": "text/x-python",
   "name": "python",
   "nbconvert_exporter": "python",
   "pygments_lexer": "ipython3",
   "version": "3.12.7"
  }
 },
 "nbformat": 4,
 "nbformat_minor": 5
}
