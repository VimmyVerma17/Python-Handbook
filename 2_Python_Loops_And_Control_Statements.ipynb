{
 "cells": [
  {
   "cell_type": "code",
   "execution_count": 3,
   "id": "2211dac3-ed88-43ff-94d6-7b6e169cade1",
   "metadata": {},
   "outputs": [
    {
     "name": "stdin",
     "output_type": "stream",
     "text": [
      "Enter a number: 4567\n"
     ]
    },
    {
     "name": "stdout",
     "output_type": "stream",
     "text": [
      "num is greater than 100\n"
     ]
    }
   ],
   "source": [
    "#if statement\n",
    "val = input(\"Enter a number:\")\n",
    "value_float = float(val)\n",
    "if(value_float > 100):\n",
    "    print(\"num is greater than 100\")"
   ]
  },
  {
   "cell_type": "code",
   "execution_count": 4,
   "id": "26c3e51b-c5d1-4e92-be1c-6264ea0aa993",
   "metadata": {},
   "outputs": [
    {
     "name": "stdin",
     "output_type": "stream",
     "text": [
      "Enter a number: 4\n"
     ]
    },
    {
     "name": "stdout",
     "output_type": "stream",
     "text": [
      "num is even\n"
     ]
    }
   ],
   "source": [
    "val = input(\"Enter a number:\")\n",
    "value_float = float(val)\n",
    "if(value_float%2 == 0):\n",
    "    print(\"num is even\")"
   ]
  },
  {
   "cell_type": "code",
   "execution_count": 5,
   "id": "1e50139b-0d2e-4913-bf74-487876185544",
   "metadata": {},
   "outputs": [
    {
     "name": "stdin",
     "output_type": "stream",
     "text": [
      "Enter a number: 13\n"
     ]
    },
    {
     "name": "stdout",
     "output_type": "stream",
     "text": [
      "num is odd\n"
     ]
    }
   ],
   "source": [
    "#if-else statement\n",
    "val = input(\"Enter a number:\")\n",
    "value_float = float(val)\n",
    "if(value_float%2 == 0):\n",
    "    print(\"num is even\")\n",
    "else:\n",
    "    print(\"num is odd\")"
   ]
  },
  {
   "cell_type": "code",
   "execution_count": 7,
   "id": "a7aeae9e-cfde-4f1b-a815-8081c8692c0f",
   "metadata": {},
   "outputs": [
    {
     "name": "stdin",
     "output_type": "stream",
     "text": [
      "Enter a age: 56\n"
     ]
    },
    {
     "name": "stdout",
     "output_type": "stream",
     "text": [
      "Senior citizen\n"
     ]
    }
   ],
   "source": [
    "#nested if-else ---elif\n",
    "age = float(input(\"Enter a age:\"))\n",
    "if(age < 18):\n",
    "    print(\"Minor age\")\n",
    "elif(age >= 18 and age <= 45):\n",
    "    print(\"Mid age\")\n",
    "elif(age > 45 and age <=50):\n",
    "    print(\"Senior mid age\")\n",
    "else:\n",
    "    print(\"Senior citizen\")"
   ]
  },
  {
   "cell_type": "code",
   "execution_count": 8,
   "id": "5cd6ab07-d74f-481b-bb57-b5332bcc52b6",
   "metadata": {},
   "outputs": [
    {
     "name": "stdin",
     "output_type": "stream",
     "text": [
      "Enter a age: 14\n"
     ]
    },
    {
     "name": "stdout",
     "output_type": "stream",
     "text": [
      "Minor age\n",
      "You are in school\n"
     ]
    }
   ],
   "source": [
    "age = float(input(\"Enter a age:\"))\n",
    "if(age < 18):\n",
    "    print(\"Minor age\")\n",
    "    if(age < 15):\n",
    "        print(\"You are in school\")\n",
    "    else:\n",
    "        print(\"You are in college\")\n",
    "elif(age >= 18 and age <= 45):\n",
    "    print(\"Mid age\")\n",
    "elif(age > 45 and age <=50):\n",
    "    print(\"Senior mid age\")\n",
    "else:\n",
    "    print(\"Senior citizen\")"
   ]
  },
  {
   "cell_type": "code",
   "execution_count": 15,
   "id": "30a291fb-ffa0-43d7-9c20-25d018a144b1",
   "metadata": {},
   "outputs": [
    {
     "name": "stdout",
     "output_type": "stream",
     "text": [
      "1\n",
      "4\n",
      "9\n",
      "16\n",
      "25\n",
      "36\n",
      "49\n"
     ]
    }
   ],
   "source": [
    "#for loop\n",
    "lst = [1,2,3,4,5,6,7]\n",
    "for i in lst:\n",
    "    #print(i)\n",
    "    print(i**2)"
   ]
  },
  {
   "cell_type": "code",
   "execution_count": 16,
   "id": "e3e8eca8-db32-451a-b8dd-c273d91d7d9d",
   "metadata": {},
   "outputs": [
    {
     "name": "stdout",
     "output_type": "stream",
     "text": [
      "28\n"
     ]
    }
   ],
   "source": [
    "#sum of all nums\n",
    "lst = [1,2,3,4,5,6,7]\n",
    "summ = 0\n",
    "for i in lst:\n",
    "    summ = summ + i\n",
    "print(summ)"
   ]
  },
  {
   "cell_type": "code",
   "execution_count": null,
   "id": "e2714995-2a0f-4a7f-b289-7558bca43eb4",
   "metadata": {},
   "outputs": [],
   "source": [
    "#sum of even and odd\n",
    "lst = [1,2,3,4,5,6,7]\n",
    "summ_even = 0\n",
    "summ_odd = 0\n",
    "for i in lst:\n",
    "    if(i%2 == 0):\n",
    "        summ_even = summ_even + i\n",
    "    else:\n",
    "        summ_odd = summ_odd + i\n",
    "#print(summ_even, summ_odd)\n",
    "print(\"Even sum is {}\".format(summ_even))\n",
    "print(\"Odd sum is {}\".format(summ_odd))"
   ]
  },
  {
   "cell_type": "code",
   "execution_count": null,
   "id": "19386af0-3a6c-4b77-892e-fa9b0b2900c4",
   "metadata": {},
   "outputs": [],
   "source": [
    "#while loop\n",
    "i = 0\n",
    "while(i <= 10):\n",
    "    print(i)\n",
    "    i = i+1"
   ]
  },
  {
   "cell_type": "code",
   "execution_count": null,
   "id": "85a67cf9-ece7-4459-8e24-fbcee5a8ef28",
   "metadata": {},
   "outputs": [],
   "source": [
    "summ_even = 0\n",
    "summ_odd = 0\n",
    "while(i <= 10):\n",
    "    if(i%2 == 0):\n",
    "        summ_even = summ_even + i\n",
    "    else:\n",
    "        summ_odd = summ_odd + i\n",
    "    i = i+1\n",
    "print(summ_even, summ_odd)"
   ]
  },
  {
   "cell_type": "code",
   "execution_count": null,
   "id": "5e8e3ac7-2802-484a-b826-c08dc9de8797",
   "metadata": {},
   "outputs": [],
   "source": [
    "#break\n",
    "i = 1\n",
    "while(i <= 10):\n",
    "    print(x)\n",
    "    if(x == 4):\n",
    "        break\n",
    "    x = x+i"
   ]
  },
  {
   "cell_type": "code",
   "execution_count": null,
   "id": "7dc69a03-9f7c-48bc-bc10-d6bd2ed0f158",
   "metadata": {},
   "outputs": [],
   "source": [
    "i = 1\n",
    "while(i <= 10):\n",
    "    if(x == 4):\n",
    "        break\n",
    "    print(x)\n",
    "    x = x+i"
   ]
  },
  {
   "cell_type": "code",
   "execution_count": null,
   "id": "e39691e6-08df-41c4-88fe-d495eaa0f580",
   "metadata": {},
   "outputs": [],
   "source": [
    "#continue\n",
    "i = 1\n",
    "while(i <= 10):\n",
    "    x = x+i\n",
    "    if(x == 4):\n",
    "        continue\n",
    "    print(x)"
   ]
  }
 ],
 "metadata": {
  "kernelspec": {
   "display_name": "Python [conda env:base] *",
   "language": "python",
   "name": "conda-base-py"
  },
  "language_info": {
   "codemirror_mode": {
    "name": "ipython",
    "version": 3
   },
   "file_extension": ".py",
   "mimetype": "text/x-python",
   "name": "python",
   "nbconvert_exporter": "python",
   "pygments_lexer": "ipython3",
   "version": "3.12.7"
  }
 },
 "nbformat": 4,
 "nbformat_minor": 5
}
