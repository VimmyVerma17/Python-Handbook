{
 "cells": [
  {
   "cell_type": "markdown",
   "id": "1d568395-f3c3-434c-b5e0-514226cb389b",
   "metadata": {},
   "source": [
    "Why functions?\n",
    "\n",
    "To make code more readable, efficient, maintainable, reuseable and extensible\n",
    "\n",
    "Provides code reusability - Can divide a complex task into different parts called modules making problem solving simple"
   ]
  },
  {
   "cell_type": "code",
   "execution_count": 1,
   "id": "f98d759d-e999-49ba-81d0-795a02fb77b6",
   "metadata": {},
   "outputs": [],
   "source": [
    "def welcome():\n",
    "    print(\"Welcome to the coding world\")"
   ]
  },
  {
   "cell_type": "code",
   "execution_count": 2,
   "id": "673d62b2-7668-4f6e-8ea6-b3609fa13d11",
   "metadata": {},
   "outputs": [
    {
     "name": "stdout",
     "output_type": "stream",
     "text": [
      "Welcome to the coding world\n"
     ]
    }
   ],
   "source": [
    "welcome()"
   ]
  },
  {
   "cell_type": "code",
   "execution_count": 3,
   "id": "ad5c1add-abb0-4e88-860f-8f7b6ab34877",
   "metadata": {},
   "outputs": [
    {
     "name": "stdout",
     "output_type": "stream",
     "text": [
      "Welcome to the coding world\n",
      "Welcome to the coding world\n"
     ]
    }
   ],
   "source": [
    "welcome()\n",
    "welcome()"
   ]
  },
  {
   "cell_type": "code",
   "execution_count": 4,
   "id": "a3abbf08-8a5f-42b9-8f50-c59065bde242",
   "metadata": {},
   "outputs": [],
   "source": [
    "def welcomee():\n",
    "    return \"Welcome to the coding world\""
   ]
  },
  {
   "cell_type": "code",
   "execution_count": 5,
   "id": "2d42d01f-e7b1-4dbe-82fb-f5df2c83dc45",
   "metadata": {},
   "outputs": [
    {
     "name": "stdout",
     "output_type": "stream",
     "text": [
      "Welcome to the coding world\n"
     ]
    }
   ],
   "source": [
    "print(welcomee())"
   ]
  },
  {
   "cell_type": "code",
   "execution_count": 7,
   "id": "3b7dba35-8f8e-45ef-b5ac-a34a1ce25741",
   "metadata": {},
   "outputs": [
    {
     "name": "stdout",
     "output_type": "stream",
     "text": [
      "Welcome to the coding world\n"
     ]
    },
    {
     "data": {
      "text/plain": [
       "'Welcome to the coding world'"
      ]
     },
     "execution_count": 7,
     "metadata": {},
     "output_type": "execute_result"
    }
   ],
   "source": [
    "print(welcomee())\n",
    "welcomee()"
   ]
  },
  {
   "cell_type": "code",
   "execution_count": 13,
   "id": "5acec548-9346-449c-bd92-8bc3485d364f",
   "metadata": {},
   "outputs": [
    {
     "name": "stdout",
     "output_type": "stream",
     "text": [
      "Welcome to the coding world\n",
      "Welcome to the coding world, we will learn python\n"
     ]
    }
   ],
   "source": [
    "msg = welcomee()\n",
    "print(msg)\n",
    "print(msg + ', we will learn python')"
   ]
  },
  {
   "cell_type": "code",
   "execution_count": 16,
   "id": "25a45a89-a677-4eb2-b4ae-9fcb827c7452",
   "metadata": {},
   "outputs": [],
   "source": [
    "def hello():\n",
    "    \"\"\" \n",
    "    description- this function is giving a welcome message\n",
    "    return- greetings \n",
    "    \"\"\""
   ]
  },
  {
   "cell_type": "code",
   "execution_count": 19,
   "id": "2fdb6a3e-a906-4a28-9fd2-7f043d6a3187",
   "metadata": {},
   "outputs": [],
   "source": [
    "def helloo()->str:\n",
    "    print(\"hiii\")"
   ]
  },
  {
   "cell_type": "code",
   "execution_count": 20,
   "id": "92bcc8e0-0e17-4e47-9252-293a4a8a62c5",
   "metadata": {},
   "outputs": [
    {
     "name": "stdout",
     "output_type": "stream",
     "text": [
      "hiii\n"
     ]
    }
   ],
   "source": [
    "helloo()"
   ]
  },
  {
   "cell_type": "code",
   "execution_count": 21,
   "id": "47d19dbc-2d04-4313-bb07-24d17fb6d00f",
   "metadata": {},
   "outputs": [],
   "source": [
    "#addition of even and odd nums\n",
    "def even_odd_sum(lst):\n",
    "    \"\"\"\n",
    "    description: This func will add odd and even nums in list\n",
    "    return- This func will return sum of even and odd nums\n",
    "    \"\"\"\n",
    "    even_sum = 0\n",
    "    odd_sum = 0\n",
    "    for i in lst:\n",
    "        if i%2==0:\n",
    "            even_sum+=i\n",
    "        else:\n",
    "            odd_sum+=i\n",
    "    return even_sum, odd_sum        "
   ]
  },
  {
   "cell_type": "code",
   "execution_count": 22,
   "id": "dd07cfc2-6729-4ef1-9332-bcaa45b6948a",
   "metadata": {},
   "outputs": [
    {
     "name": "stdout",
     "output_type": "stream",
     "text": [
      "104 16\n"
     ]
    }
   ],
   "source": [
    "sum1, sum2 = even_odd_sum([1,2,3,34,5,7,56,8,4])\n",
    "print(sum1, sum2)"
   ]
  }
 ],
 "metadata": {
  "kernelspec": {
   "display_name": "Python [conda env:base] *",
   "language": "python",
   "name": "conda-base-py"
  },
  "language_info": {
   "codemirror_mode": {
    "name": "ipython",
    "version": 3
   },
   "file_extension": ".py",
   "mimetype": "text/x-python",
   "name": "python",
   "nbconvert_exporter": "python",
   "pygments_lexer": "ipython3",
   "version": "3.12.7"
  }
 },
 "nbformat": 4,
 "nbformat_minor": 5
}
