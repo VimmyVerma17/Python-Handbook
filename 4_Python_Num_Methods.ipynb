{
 "cells": [
  {
   "cell_type": "code",
   "execution_count": null,
   "id": "ae7ab694-34b8-4bc9-b565-b42d2883d0c6",
   "metadata": {},
   "outputs": [
    {
     "data": {
      "text/plain": [
       "10"
      ]
     },
     "execution_count": 13,
     "metadata": {},
     "output_type": "execute_result"
    }
   ],
   "source": [
    "#absolute()\n",
    "#shift tab to see description\n",
    "abs(10)"
   ]
  },
  {
   "cell_type": "code",
   "execution_count": 3,
   "id": "ff408ca7-e598-4280-ad53-bb48dc79cca8",
   "metadata": {},
   "outputs": [
    {
     "data": {
      "text/plain": [
       "20"
      ]
     },
     "execution_count": 3,
     "metadata": {},
     "output_type": "execute_result"
    }
   ],
   "source": [
    "abs(-20)"
   ]
  },
  {
   "cell_type": "code",
   "execution_count": 4,
   "id": "a4b7632e-6f18-4929-ab12-aba8137c2fd5",
   "metadata": {},
   "outputs": [
    {
     "data": {
      "text/plain": [
       "12.9"
      ]
     },
     "execution_count": 4,
     "metadata": {},
     "output_type": "execute_result"
    }
   ],
   "source": [
    "abs(12.90)"
   ]
  },
  {
   "cell_type": "code",
   "execution_count": 12,
   "id": "0cc0029f-54ed-4421-a091-e7ecf17e6dbc",
   "metadata": {},
   "outputs": [
    {
     "data": {
      "text/plain": [
       "35"
      ]
     },
     "execution_count": 12,
     "metadata": {},
     "output_type": "execute_result"
    }
   ],
   "source": [
    "#ceil()\n",
    "#ceil is always used with math module\n",
    "import math\n",
    "math.ceil(34.67)"
   ]
  },
  {
   "cell_type": "code",
   "execution_count": 6,
   "id": "a50eacef-44d6-44e8-980d-b0b8859c5c91",
   "metadata": {},
   "outputs": [
    {
     "data": {
      "text/plain": [
       "35"
      ]
     },
     "execution_count": 6,
     "metadata": {},
     "output_type": "execute_result"
    }
   ],
   "source": [
    "math.ceil(34.44)"
   ]
  },
  {
   "cell_type": "code",
   "execution_count": 7,
   "id": "1deda6cc-88b0-408d-a982-858cba13447c",
   "metadata": {},
   "outputs": [
    {
     "data": {
      "text/plain": [
       "-23"
      ]
     },
     "execution_count": 7,
     "metadata": {},
     "output_type": "execute_result"
    }
   ],
   "source": [
    "math.ceil(-23.22)"
   ]
  },
  {
   "cell_type": "code",
   "execution_count": 14,
   "id": "fe99ef3b-57f7-4bad-9707-1036fc1fa90a",
   "metadata": {},
   "outputs": [
    {
     "data": {
      "text/plain": [
       "21"
      ]
     },
     "execution_count": 14,
     "metadata": {},
     "output_type": "execute_result"
    }
   ],
   "source": [
    "#floor()\n",
    "math.floor(21.22)"
   ]
  },
  {
   "cell_type": "code",
   "execution_count": 9,
   "id": "3e932802-07eb-4f33-9123-c209e56cee4a",
   "metadata": {},
   "outputs": [
    {
     "data": {
      "text/plain": [
       "21"
      ]
     },
     "execution_count": 9,
     "metadata": {},
     "output_type": "execute_result"
    }
   ],
   "source": [
    "math.floor(21.99)"
   ]
  },
  {
   "cell_type": "code",
   "execution_count": 10,
   "id": "a38045b0-b57b-4e6a-b2c8-6bcf283b88b1",
   "metadata": {},
   "outputs": [
    {
     "data": {
      "text/plain": [
       "-57"
      ]
     },
     "execution_count": 10,
     "metadata": {},
     "output_type": "execute_result"
    }
   ],
   "source": [
    "math.floor(-56.9)"
   ]
  },
  {
   "cell_type": "code",
   "execution_count": 15,
   "id": "bf361a6b-441e-427a-a25e-82a29d05e9be",
   "metadata": {},
   "outputs": [
    {
     "data": {
      "text/plain": [
       "22026.465794806718"
      ]
     },
     "execution_count": 15,
     "metadata": {},
     "output_type": "execute_result"
    }
   ],
   "source": [
    "#exponential()\n",
    "math.exp(10)"
   ]
  },
  {
   "cell_type": "code",
   "execution_count": 16,
   "id": "e3e52378-cbc7-46b8-aca0-6f0ed4c0585b",
   "metadata": {},
   "outputs": [
    {
     "data": {
      "text/plain": [
       "10.0"
      ]
     },
     "execution_count": 16,
     "metadata": {},
     "output_type": "execute_result"
    }
   ],
   "source": [
    "#fabs()\n",
    "math.fabs(10)"
   ]
  },
  {
   "cell_type": "code",
   "execution_count": 17,
   "id": "b894e0ec-2755-48d5-82ee-699e5c3ea93c",
   "metadata": {},
   "outputs": [
    {
     "data": {
      "text/plain": [
       "10.9"
      ]
     },
     "execution_count": 17,
     "metadata": {},
     "output_type": "execute_result"
    }
   ],
   "source": [
    "math.fabs(-10.9)"
   ]
  },
  {
   "cell_type": "code",
   "execution_count": 19,
   "id": "b98cc9fd-325f-44f2-8a7a-856303616d38",
   "metadata": {},
   "outputs": [
    {
     "data": {
      "text/plain": [
       "2.302585092994046"
      ]
     },
     "execution_count": 19,
     "metadata": {},
     "output_type": "execute_result"
    }
   ],
   "source": [
    "#log()- by default log 2\n",
    "math.log(10)"
   ]
  },
  {
   "cell_type": "code",
   "execution_count": 20,
   "id": "a3888542-e3e8-427b-896f-e03becd1359b",
   "metadata": {},
   "outputs": [
    {
     "data": {
      "text/plain": [
       "1.6532125137753437"
      ]
     },
     "execution_count": 20,
     "metadata": {},
     "output_type": "execute_result"
    }
   ],
   "source": [
    "math.log10(45)"
   ]
  },
  {
   "cell_type": "code",
   "execution_count": 21,
   "id": "892fd3d8-eefd-42ab-b7e3-08c620b4cc27",
   "metadata": {},
   "outputs": [
    {
     "data": {
      "text/plain": [
       "20"
      ]
     },
     "execution_count": 21,
     "metadata": {},
     "output_type": "execute_result"
    }
   ],
   "source": [
    "#max()\n",
    "max(10,20)"
   ]
  },
  {
   "cell_type": "code",
   "execution_count": 22,
   "id": "c7cc8968-a534-4d9f-bd03-d4ab3428006e",
   "metadata": {},
   "outputs": [
    {
     "data": {
      "text/plain": [
       "-10"
      ]
     },
     "execution_count": 22,
     "metadata": {},
     "output_type": "execute_result"
    }
   ],
   "source": [
    "max(-10,-20)"
   ]
  },
  {
   "cell_type": "code",
   "execution_count": 23,
   "id": "b429194a-f746-4179-b763-7e46cfa329a5",
   "metadata": {},
   "outputs": [
    {
     "data": {
      "text/plain": [
       "20"
      ]
     },
     "execution_count": 23,
     "metadata": {},
     "output_type": "execute_result"
    }
   ],
   "source": [
    "#min()\n",
    "min(20,30)"
   ]
  },
  {
   "cell_type": "code",
   "execution_count": 24,
   "id": "e39ee7c0-a0e8-4b62-ab79-52b99eec4c98",
   "metadata": {},
   "outputs": [
    {
     "data": {
      "text/plain": [
       "-30"
      ]
     },
     "execution_count": 24,
     "metadata": {},
     "output_type": "execute_result"
    }
   ],
   "source": [
    "min(-20,-30)"
   ]
  },
  {
   "cell_type": "code",
   "execution_count": 25,
   "id": "9b503431-52fd-4390-a617-6487a8fb5e73",
   "metadata": {},
   "outputs": [
    {
     "data": {
      "text/plain": [
       "32.0"
      ]
     },
     "execution_count": 25,
     "metadata": {},
     "output_type": "execute_result"
    }
   ],
   "source": [
    "#pow()\n",
    "math.pow(2,5)"
   ]
  },
  {
   "cell_type": "code",
   "execution_count": 26,
   "id": "ec858983-941f-4134-8657-1cce769573f2",
   "metadata": {},
   "outputs": [
    {
     "data": {
      "text/plain": [
       "1.0"
      ]
     },
     "execution_count": 26,
     "metadata": {},
     "output_type": "execute_result"
    }
   ],
   "source": [
    "math.pow(1,5)"
   ]
  },
  {
   "cell_type": "code",
   "execution_count": 27,
   "id": "f92025e8-fa71-42bd-803e-9df463e03275",
   "metadata": {},
   "outputs": [
    {
     "data": {
      "text/plain": [
       "4.0"
      ]
     },
     "execution_count": 27,
     "metadata": {},
     "output_type": "execute_result"
    }
   ],
   "source": [
    "#sqrt()\n",
    "math.sqrt(16)"
   ]
  },
  {
   "cell_type": "code",
   "execution_count": 28,
   "id": "1db5ecd6-7faf-4517-83d0-5aeba5591090",
   "metadata": {},
   "outputs": [
    {
     "data": {
      "text/plain": [
       "3.0"
      ]
     },
     "execution_count": 28,
     "metadata": {},
     "output_type": "execute_result"
    }
   ],
   "source": [
    "math.sqrt(9)"
   ]
  },
  {
   "cell_type": "code",
   "execution_count": 29,
   "id": "6777f350-1715-4649-8fc2-16a149fdc4af",
   "metadata": {},
   "outputs": [
    {
     "data": {
      "text/plain": [
       "0.8509035245341184"
      ]
     },
     "execution_count": 29,
     "metadata": {},
     "output_type": "execute_result"
    }
   ],
   "source": [
    "#trignometric functions\n",
    "#sin()\n",
    "math.sin(45)"
   ]
  },
  {
   "cell_type": "code",
   "execution_count": 30,
   "id": "c1bc76d4-3bab-4752-bf8e-ac256c394f7a",
   "metadata": {},
   "outputs": [
    {
     "data": {
      "text/plain": [
       "-0.4480736161291701"
      ]
     },
     "execution_count": 30,
     "metadata": {},
     "output_type": "execute_result"
    }
   ],
   "source": [
    "#cos()\n",
    "math.cos(90)"
   ]
  },
  {
   "cell_type": "code",
   "execution_count": 31,
   "id": "2bd6f250-f6a2-4de6-afeb-3a32a2cc3d24",
   "metadata": {},
   "outputs": [
    {
     "data": {
      "text/plain": [
       "1.6197751905438615"
      ]
     },
     "execution_count": 31,
     "metadata": {},
     "output_type": "execute_result"
    }
   ],
   "source": [
    "#tan()\n",
    "math.tan(45)"
   ]
  },
  {
   "cell_type": "code",
   "execution_count": null,
   "id": "7c3be408-f12b-4e9c-aef0-f44174d2cf59",
   "metadata": {},
   "outputs": [
    {
     "data": {
      "text/plain": [
       "3.605551275463989"
      ]
     },
     "execution_count": 32,
     "metadata": {},
     "output_type": "execute_result"
    }
   ],
   "source": [
    "#hypot()\n",
    "math.hypot(2,3)"
   ]
  },
  {
   "cell_type": "code",
   "execution_count": 33,
   "id": "44e6ee9f-648e-423b-89a7-f814304a69fe",
   "metadata": {},
   "outputs": [
    {
     "data": {
      "text/plain": [
       "(0.0, 6.0)"
      ]
     },
     "execution_count": 33,
     "metadata": {},
     "output_type": "execute_result"
    }
   ],
   "source": [
    "#modf()\n",
    "math.modf(6)"
   ]
  }
 ],
 "metadata": {
  "kernelspec": {
   "display_name": "Python [conda env:base] *",
   "language": "python",
   "name": "conda-base-py"
  },
  "language_info": {
   "codemirror_mode": {
    "name": "ipython",
    "version": 3
   },
   "file_extension": ".py",
   "mimetype": "text/x-python",
   "name": "python",
   "nbconvert_exporter": "python",
   "pygments_lexer": "ipython3",
   "version": "3.12.7"
  }
 },
 "nbformat": 4,
 "nbformat_minor": 5
}
