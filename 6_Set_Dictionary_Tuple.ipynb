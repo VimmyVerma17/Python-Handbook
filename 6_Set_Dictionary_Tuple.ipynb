{
 "cells": [
  {
   "cell_type": "markdown",
   "id": "95f61ae0-dde6-4fb9-b003-e5e39274290f",
   "metadata": {},
   "source": [
    "A Set is an unordered collection data type that is iterable, mutable, and has no duplicate elements. Python's set class represents the mathematical notion of a set.This is based on a data structure known as a hash table"
   ]
  },
  {
   "cell_type": "code",
   "execution_count": 2,
   "id": "7a222336-5f08-4461-88d8-ef97808f9873",
   "metadata": {},
   "outputs": [
    {
     "data": {
      "text/plain": [
       "set"
      ]
     },
     "execution_count": 2,
     "metadata": {},
     "output_type": "execute_result"
    }
   ],
   "source": [
    "type({1})"
   ]
  },
  {
   "cell_type": "code",
   "execution_count": 3,
   "id": "04442c08-9150-406a-b23c-ec31b416c982",
   "metadata": {},
   "outputs": [
    {
     "data": {
      "text/plain": [
       "set"
      ]
     },
     "execution_count": 3,
     "metadata": {},
     "output_type": "execute_result"
    }
   ],
   "source": [
    "type({1,2,3,4,5,'vimmy'})"
   ]
  },
  {
   "cell_type": "code",
   "execution_count": 5,
   "id": "59c98a49-4eb3-4b67-a665-82fcb7246d59",
   "metadata": {},
   "outputs": [
    {
     "name": "stdout",
     "output_type": "stream",
     "text": [
      "<class 'set'>\n"
     ]
    }
   ],
   "source": [
    "print(type(set([1,2,3,4,5])))"
   ]
  },
  {
   "cell_type": "code",
   "execution_count": 7,
   "id": "9f27f2bc-c6d3-4432-ba2c-b59ca62f9a57",
   "metadata": {},
   "outputs": [
    {
     "name": "stdout",
     "output_type": "stream",
     "text": [
      "{1, 2, 3, 4, 5}\n"
     ]
    }
   ],
   "source": [
    "print(set([1,2,3,4,4,5,5]))"
   ]
  },
  {
   "cell_type": "code",
   "execution_count": 8,
   "id": "1eea310e-8cce-48f1-9309-c3057bd7ab9b",
   "metadata": {},
   "outputs": [
    {
     "name": "stdout",
     "output_type": "stream",
     "text": [
      "set()\n",
      "<class 'set'>\n"
     ]
    }
   ],
   "source": [
    "#empty set\n",
    "sett=set()\n",
    "print(sett)\n",
    "print(type(sett))"
   ]
  },
  {
   "cell_type": "code",
   "execution_count": 9,
   "id": "3a3c5d0b-ed81-4cd5-b800-f85d95944d12",
   "metadata": {},
   "outputs": [
    {
     "name": "stdout",
     "output_type": "stream",
     "text": [
      "{'Hitman', 'Avengers', 'IronMan'}\n"
     ]
    },
    {
     "data": {
      "text/plain": [
       "set"
      ]
     },
     "execution_count": 9,
     "metadata": {},
     "output_type": "execute_result"
    }
   ],
   "source": [
    "sett={\"Avengers\",\"IronMan\",'Hitman'}\n",
    "print(sett)\n",
    "type(sett)"
   ]
  },
  {
   "cell_type": "code",
   "execution_count": 13,
   "id": "72b53179-80b9-4ee5-abb1-49333595c87f",
   "metadata": {},
   "outputs": [],
   "source": [
    "#cannot do indexing in set\n",
    "#cannot assign values in set\n",
    "#sett[2]- invalid"
   ]
  },
  {
   "cell_type": "code",
   "execution_count": 12,
   "id": "a33c8a12-e05d-4fd0-b35f-df0a6ff1a6f4",
   "metadata": {},
   "outputs": [
    {
     "name": "stdout",
     "output_type": "stream",
     "text": [
      "Hitman\n",
      "Avengers\n",
      "IronMan\n"
     ]
    }
   ],
   "source": [
    "for i in sett:\n",
    "    print(i)"
   ]
  },
  {
   "cell_type": "code",
   "execution_count": 15,
   "id": "82b0b6d3-983d-4473-a300-37fd944e25fc",
   "metadata": {},
   "outputs": [
    {
     "data": {
      "text/plain": [
       "{'Avengers', 'Hitman', 'Hulk', 'IronMan'}"
      ]
     },
     "execution_count": 15,
     "metadata": {},
     "output_type": "execute_result"
    }
   ],
   "source": [
    "## Inbuilt function in sets\n",
    "sett.add(\"Hulk\")\n",
    "sett"
   ]
  },
  {
   "cell_type": "code",
   "execution_count": 16,
   "id": "d2f4b80a-98e4-463c-82a4-94bfd696fce5",
   "metadata": {},
   "outputs": [],
   "source": [
    "#set always gives alphabetical order"
   ]
  },
  {
   "cell_type": "code",
   "execution_count": 19,
   "id": "71723964-1ee5-429b-ac02-78bbdf7b3595",
   "metadata": {},
   "outputs": [
    {
     "data": {
      "text/plain": [
       "{1, 2, 3, 5, 6, 33}"
      ]
     },
     "execution_count": 19,
     "metadata": {},
     "output_type": "execute_result"
    }
   ],
   "source": [
    "set1=set([6,3,5,1,2,33])\n",
    "set1"
   ]
  },
  {
   "cell_type": "code",
   "execution_count": 21,
   "id": "e857a425-2d14-425f-826c-dc4993d63758",
   "metadata": {},
   "outputs": [
    {
     "data": {
      "text/plain": [
       "{0, 1, 2, 3, 5, 6, 33}"
      ]
     },
     "execution_count": 21,
     "metadata": {},
     "output_type": "execute_result"
    }
   ],
   "source": [
    "set1.add(0)\n",
    "set1"
   ]
  },
  {
   "cell_type": "code",
   "execution_count": 29,
   "id": "4fc45175-a9e5-4e84-bfc5-ff7411a3707c",
   "metadata": {},
   "outputs": [],
   "source": [
    "#intersection\n",
    "set1={'Avengers', 'Hitman', 'Hulk'}\n",
    "set2={'Avengers', 'Hitman', 'Hulk', 'IronMan'}"
   ]
  },
  {
   "cell_type": "code",
   "execution_count": 30,
   "id": "b7b5d27a-21d5-4fbe-a121-1e3918784850",
   "metadata": {},
   "outputs": [
    {
     "data": {
      "text/plain": [
       "{'Avengers', 'Hitman', 'Hulk', 'IronMan'}"
      ]
     },
     "execution_count": 30,
     "metadata": {},
     "output_type": "execute_result"
    }
   ],
   "source": [
    "set2"
   ]
  },
  {
   "cell_type": "code",
   "execution_count": 31,
   "id": "e01239fe-d5ad-47f0-a649-badebc00df22",
   "metadata": {},
   "outputs": [
    {
     "data": {
      "text/plain": [
       "{'Avengers', 'Hitman', 'Hulk'}"
      ]
     },
     "execution_count": 31,
     "metadata": {},
     "output_type": "execute_result"
    }
   ],
   "source": [
    "set2.intersection(set1)"
   ]
  },
  {
   "cell_type": "code",
   "execution_count": 34,
   "id": "4c9a46d6-6bc5-434d-ae08-2f9bf9009970",
   "metadata": {},
   "outputs": [
    {
     "data": {
      "text/plain": [
       "{'Avengers', 'Hitman', 'Hulk'}"
      ]
     },
     "execution_count": 34,
     "metadata": {},
     "output_type": "execute_result"
    }
   ],
   "source": [
    "set2.intersection_update(set1)\n",
    "set2"
   ]
  },
  {
   "cell_type": "code",
   "execution_count": 37,
   "id": "4d6e67b7-3558-4a50-97d5-bf1752570864",
   "metadata": {},
   "outputs": [
    {
     "data": {
      "text/plain": [
       "{'IronMan'}"
      ]
     },
     "execution_count": 37,
     "metadata": {},
     "output_type": "execute_result"
    }
   ],
   "source": [
    "#difference\n",
    "set1={'Avengers', 'Hitman', 'Hulk'}\n",
    "set2={'Avengers', 'Hitman', 'Hulk', 'IronMan'}\n",
    "set2.difference(set1)"
   ]
  },
  {
   "cell_type": "code",
   "execution_count": 47,
   "id": "cc9a0f4b-6d76-4293-bc56-e952c716a5f9",
   "metadata": {},
   "outputs": [
    {
     "data": {
      "text/plain": [
       "{'IronMan'}"
      ]
     },
     "execution_count": 47,
     "metadata": {},
     "output_type": "execute_result"
    }
   ],
   "source": [
    "set2.difference_update(set1)\n",
    "set2"
   ]
  },
  {
   "cell_type": "code",
   "execution_count": 45,
   "id": "884999c6-a42f-4469-8d0c-2ce035ebd5a5",
   "metadata": {},
   "outputs": [
    {
     "data": {
      "text/plain": [
       "True"
      ]
     },
     "execution_count": 45,
     "metadata": {},
     "output_type": "execute_result"
    }
   ],
   "source": [
    "#issubset\n",
    "set1={'Avengers', 'Hitman', 'Hulk'}\n",
    "set2={'Avengers', 'Hitman', 'Hulk', 'IronMan'}\n",
    "set1.issubset(set2)"
   ]
  },
  {
   "cell_type": "markdown",
   "id": "891c801f-a686-434c-bb5e-7d632b3a596b",
   "metadata": {},
   "source": [
    "A dictionary is a collection which is unordered, changeable and indexed. In Python dictionaries are written with curly brackets, and they have keys and values."
   ]
  },
  {
   "cell_type": "code",
   "execution_count": 48,
   "id": "2b8c279e-75d3-4821-b37d-2782abd9de56",
   "metadata": {},
   "outputs": [
    {
     "data": {
      "text/plain": [
       "dict"
      ]
     },
     "execution_count": 48,
     "metadata": {},
     "output_type": "execute_result"
    }
   ],
   "source": [
    "dic={}\n",
    "type(dic)"
   ]
  },
  {
   "cell_type": "code",
   "execution_count": 49,
   "id": "1d7ea7ee-9a98-4081-9319-37a5f4a8f9a1",
   "metadata": {},
   "outputs": [
    {
     "data": {
      "text/plain": [
       "set"
      ]
     },
     "execution_count": 49,
     "metadata": {},
     "output_type": "execute_result"
    }
   ],
   "source": [
    "dic={1}\n",
    "type(dic)"
   ]
  },
  {
   "cell_type": "code",
   "execution_count": 50,
   "id": "928dcfba-1811-48ce-8bd7-b93e00456b6b",
   "metadata": {},
   "outputs": [
    {
     "data": {
      "text/plain": [
       "dict"
      ]
     },
     "execution_count": 50,
     "metadata": {},
     "output_type": "execute_result"
    }
   ],
   "source": [
    "type({1:'vimmy'})"
   ]
  },
  {
   "cell_type": "code",
   "execution_count": 52,
   "id": "72de417a-8f57-48ca-a576-2d730eda8e31",
   "metadata": {},
   "outputs": [
    {
     "data": {
      "text/plain": [
       "{'name': 'vimmy', 'age': 20}"
      ]
     },
     "execution_count": 52,
     "metadata": {},
     "output_type": "execute_result"
    }
   ],
   "source": [
    "dict(name='vimmy', age=20)"
   ]
  },
  {
   "cell_type": "code",
   "execution_count": 53,
   "id": "eae78f09-9a8a-4110-97c4-9f9eb3bcfebd",
   "metadata": {},
   "outputs": [],
   "source": [
    "#Dictionary creation\n",
    "my_dict={\"Car1\": \"Audi\", \"Car2\":\"BMW\",\"Car3\":\"Mercidies Benz\"}"
   ]
  },
  {
   "cell_type": "code",
   "execution_count": 57,
   "id": "a6c5076c-d35b-4f9b-a930-583e2bc34989",
   "metadata": {},
   "outputs": [
    {
     "data": {
      "text/plain": [
       "dict_items([('Car1', 'Audi'), ('Car2', 'BMW'), ('Car3', 'Mercidies Benz')])"
      ]
     },
     "execution_count": 57,
     "metadata": {},
     "output_type": "execute_result"
    }
   ],
   "source": [
    "my_dict.items()"
   ]
  },
  {
   "cell_type": "code",
   "execution_count": 61,
   "id": "56bf4c1e-7d11-44de-a706-4fdc79bdfde0",
   "metadata": {},
   "outputs": [
    {
     "name": "stdout",
     "output_type": "stream",
     "text": [
      "Car1\n",
      "Car2\n",
      "Car3\n"
     ]
    }
   ],
   "source": [
    "#loop throught the dictionaries keys\n",
    "for i in my_dict:\n",
    "    print(i)"
   ]
  },
  {
   "cell_type": "code",
   "execution_count": 62,
   "id": "b6200124-29f6-4713-953f-eb3c8c3f0dc7",
   "metadata": {},
   "outputs": [
    {
     "name": "stdout",
     "output_type": "stream",
     "text": [
      "Audi\n",
      "BMW\n",
      "Mercidies Benz\n"
     ]
    }
   ],
   "source": [
    "#loop throught the dictionaries values\n",
    "for i in my_dict.values():\n",
    "    print(i)"
   ]
  },
  {
   "cell_type": "code",
   "execution_count": 60,
   "id": "a593f5df-4d5e-40f7-a9cc-010225dad3c5",
   "metadata": {},
   "outputs": [
    {
     "name": "stdout",
     "output_type": "stream",
     "text": [
      "('Car1', 'Audi')\n",
      "('Car2', 'BMW')\n",
      "('Car3', 'Mercidies Benz')\n"
     ]
    }
   ],
   "source": [
    "#also check both keys and values\n",
    "for i in my_dict.items():\n",
    "    print(i)"
   ]
  },
  {
   "cell_type": "code",
   "execution_count": 55,
   "id": "861d60e2-b915-4d0d-a905-58135ef82937",
   "metadata": {},
   "outputs": [
    {
     "data": {
      "text/plain": [
       "'Audi'"
      ]
     },
     "execution_count": 55,
     "metadata": {},
     "output_type": "execute_result"
    }
   ],
   "source": [
    "#Access the item values based on keys\n",
    "my_dict['Car1']"
   ]
  },
  {
   "cell_type": "code",
   "execution_count": 64,
   "id": "de1b6ac7-3cfe-4387-a29a-9ac09bee361f",
   "metadata": {},
   "outputs": [],
   "source": [
    "## Adding items in Dictionaries\n",
    "my_dict['car4']='Audi 2.0'"
   ]
  },
  {
   "cell_type": "code",
   "execution_count": 65,
   "id": "b072c89c-6187-407a-8f42-f1f8345f4150",
   "metadata": {},
   "outputs": [
    {
     "data": {
      "text/plain": [
       "{'Car1': 'Audi', 'Car2': 'BMW', 'Car3': 'Mercidies Benz', 'car4': 'Audi 2.0'}"
      ]
     },
     "execution_count": 65,
     "metadata": {},
     "output_type": "execute_result"
    }
   ],
   "source": [
    "my_dict"
   ]
  },
  {
   "cell_type": "code",
   "execution_count": 66,
   "id": "28f0e000-8ed1-4218-99d7-b75a8167f1c1",
   "metadata": {},
   "outputs": [
    {
     "data": {
      "text/plain": [
       "{'Car1': 'Maruti', 'Car2': 'BMW', 'Car3': 'Mercidies Benz', 'car4': 'Audi 2.0'}"
      ]
     },
     "execution_count": 66,
     "metadata": {},
     "output_type": "execute_result"
    }
   ],
   "source": [
    "#update \n",
    "my_dict['Car1']='Maruti'\n",
    "my_dict"
   ]
  },
  {
   "cell_type": "code",
   "execution_count": 67,
   "id": "5b360571-b101-4348-9c42-3739ff196342",
   "metadata": {},
   "outputs": [
    {
     "name": "stdout",
     "output_type": "stream",
     "text": [
      "{'car1': {'Mercedes': 1960}, 'car2': {'Audi': 1970}, 'car3': {'Ambassador': 1980}}\n"
     ]
    }
   ],
   "source": [
    "#nested dictionary\n",
    "car1_model={'Mercedes':1960}\n",
    "car2_model={'Audi':1970}\n",
    "car3_model={'Ambassador':1980}\n",
    "car_type={'car1':car1_model,'car2':car2_model,'car3':car3_model}\n",
    "print(car_type)"
   ]
  },
  {
   "cell_type": "code",
   "execution_count": 71,
   "id": "90e903ac-fddc-4076-8799-bcf9da5ab20e",
   "metadata": {},
   "outputs": [
    {
     "name": "stdout",
     "output_type": "stream",
     "text": [
      "{'Mercedes': 1960}\n"
     ]
    }
   ],
   "source": [
    "#Accessing the items in the dictionary\n",
    "print(car_type['car1'])"
   ]
  },
  {
   "cell_type": "code",
   "execution_count": 72,
   "id": "24729313-eeff-419e-8da2-5045b4f5ac30",
   "metadata": {},
   "outputs": [
    {
     "name": "stdout",
     "output_type": "stream",
     "text": [
      "1960\n"
     ]
    }
   ],
   "source": [
    "print(car_type['car1']['Mercedes'])"
   ]
  },
  {
   "cell_type": "markdown",
   "id": "5835b133-f702-47c8-9c87-0fb99af1c5a5",
   "metadata": {},
   "source": [
    "Tuples"
   ]
  },
  {
   "cell_type": "code",
   "execution_count": 73,
   "id": "c513426a-fa3e-47fe-9174-f9e1d2535a82",
   "metadata": {},
   "outputs": [],
   "source": [
    "#create an empty Tuples\n",
    "my_tuple=tuple()"
   ]
  },
  {
   "cell_type": "code",
   "execution_count": 74,
   "id": "959c6956-a74c-4050-8f2c-d930b55cf25d",
   "metadata": {},
   "outputs": [
    {
     "data": {
      "text/plain": [
       "tuple"
      ]
     },
     "execution_count": 74,
     "metadata": {},
     "output_type": "execute_result"
    }
   ],
   "source": [
    "type(my_tuple)"
   ]
  },
  {
   "cell_type": "code",
   "execution_count": 75,
   "id": "138952d6-e95d-447a-9a88-281964db21ad",
   "metadata": {},
   "outputs": [
    {
     "name": "stdout",
     "output_type": "stream",
     "text": [
      "<class 'tuple'>\n",
      "('Hello', 'World')\n"
     ]
    }
   ],
   "source": [
    "my_tuple=('Hello','World')\n",
    "print(type(my_tuple))\n",
    "print(my_tuple)"
   ]
  },
  {
   "cell_type": "code",
   "execution_count": 78,
   "id": "b84fbdcf-796e-470b-8f3e-7484605d79f0",
   "metadata": {},
   "outputs": [
    {
     "data": {
      "text/plain": [
       "2"
      ]
     },
     "execution_count": 78,
     "metadata": {},
     "output_type": "execute_result"
    }
   ],
   "source": [
    "## Inbuilt function\n",
    "myy_tuple=('vimmy','vimmy','verma')\n",
    "myy_tuple.count('vimmy')"
   ]
  },
  {
   "cell_type": "code",
   "execution_count": 80,
   "id": "d1acac00-b124-4d35-ae78-667f6d94953b",
   "metadata": {},
   "outputs": [
    {
     "data": {
      "text/plain": [
       "2"
      ]
     },
     "execution_count": 80,
     "metadata": {},
     "output_type": "execute_result"
    }
   ],
   "source": [
    "myy_tuple.index('verma')"
   ]
  }
 ],
 "metadata": {
  "kernelspec": {
   "display_name": "Python [conda env:base] *",
   "language": "python",
   "name": "conda-base-py"
  },
  "language_info": {
   "codemirror_mode": {
    "name": "ipython",
    "version": 3
   },
   "file_extension": ".py",
   "mimetype": "text/x-python",
   "name": "python",
   "nbconvert_exporter": "python",
   "pygments_lexer": "ipython3",
   "version": "3.12.7"
  }
 },
 "nbformat": 4,
 "nbformat_minor": 5
}
