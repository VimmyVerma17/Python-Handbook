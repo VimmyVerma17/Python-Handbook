{
 "cells": [
  {
   "cell_type": "code",
   "execution_count": 1,
   "id": "f4b6754f-58a9-45c7-a31a-aee795d680a1",
   "metadata": {},
   "outputs": [
    {
     "data": {
      "text/plain": [
       "list"
      ]
     },
     "execution_count": 1,
     "metadata": {},
     "output_type": "execute_result"
    }
   ],
   "source": [
    "type([1,2,3,4,5,6,7])"
   ]
  },
  {
   "cell_type": "code",
   "execution_count": 3,
   "id": "5f168b00-94f6-43cc-b7b2-74c2dabec8c9",
   "metadata": {},
   "outputs": [
    {
     "name": "stdout",
     "output_type": "stream",
     "text": [
      "[0, 1, 2, 3, 4, 5, 6, 7, 8]\n"
     ]
    }
   ],
   "source": [
    "lst = []\n",
    "for i in range(0,9):\n",
    "    lst.append(i)\n",
    "\n",
    "print(lst)"
   ]
  },
  {
   "cell_type": "code",
   "execution_count": 4,
   "id": "770e7d4e-9c13-4119-8fee-0584218151ff",
   "metadata": {},
   "outputs": [
    {
     "name": "stdout",
     "output_type": "stream",
     "text": [
      "[1, 4, 9, 16, 25, 36]\n"
     ]
    }
   ],
   "source": [
    "lst = [1,2,3,4,5,6]\n",
    "lstt = []\n",
    "for i in lst:\n",
    "    lstt.append(i**2)\n",
    "\n",
    "print(lstt)"
   ]
  },
  {
   "cell_type": "code",
   "execution_count": 5,
   "id": "c1cd3418-4d16-4bbd-906a-79bad9a9e7ed",
   "metadata": {},
   "outputs": [
    {
     "name": "stdout",
     "output_type": "stream",
     "text": [
      "[1, 4, 9, 16, 25]\n"
     ]
    }
   ],
   "source": [
    "numbers = [1,2,3,4,5]\n",
    "squarenum = [i**2 for i in numbers]\n",
    "print(squarenum)"
   ]
  },
  {
   "cell_type": "code",
   "execution_count": 7,
   "id": "e53bbfb9-b005-48bf-826b-d7a4938e0399",
   "metadata": {},
   "outputs": [
    {
     "name": "stdout",
     "output_type": "stream",
     "text": [
      "[2, 4, 6, 8, 10]\n"
     ]
    }
   ],
   "source": [
    "#filtering even num from a list\n",
    "numbers = [1,2,3,4,5,6,7,8,9,10]\n",
    "evennum = [n for n in numbers if n%2 == 0]\n",
    "print(evennum)"
   ]
  },
  {
   "cell_type": "code",
   "execution_count": 8,
   "id": "33a858a6-7309-4ff9-b370-3617c509efe6",
   "metadata": {},
   "outputs": [
    {
     "name": "stdout",
     "output_type": "stream",
     "text": [
      "[1, 2, 3, 4, 5, 6, 7, 8, 9]\n"
     ]
    }
   ],
   "source": [
    "#flattening a list of lists using 2 loops\n",
    "lists = [[1,2,3], [4,5,6], [7,8,9]]\n",
    "flatten = [item for sublists in lists for item in sublists]\n",
    "print(flatten)"
   ]
  },
  {
   "cell_type": "code",
   "execution_count": 9,
   "id": "54dbd32c-8d90-45f3-b915-c5f068881166",
   "metadata": {},
   "outputs": [
    {
     "name": "stdout",
     "output_type": "stream",
     "text": [
      "['a', 'b', 'c', 'd']\n"
     ]
    }
   ],
   "source": [
    "#generate a list of first letters of words in a list\n",
    "words = ['apple', 'banana', 'cherry', 'date']\n",
    "firstletter = [word[0] for word in words]\n",
    "print(firstletter)"
   ]
  },
  {
   "cell_type": "code",
   "execution_count": 10,
   "id": "1acc9428-1e9a-4b66-8781-6715596aecd3",
   "metadata": {},
   "outputs": [
    {
     "name": "stdout",
     "output_type": "stream",
     "text": [
      "[4, 16, 36, 64, 100]\n"
     ]
    }
   ],
   "source": [
    "#generate a list of squares of even nums\n",
    "numbers = [1,2,3,4,5,6,7,8,9,10]\n",
    "sq = [n**2 for n in numbers if n%2 == 0]\n",
    "print(sq)"
   ]
  },
  {
   "cell_type": "code",
   "execution_count": 12,
   "id": "4f15c7b6-4e91-4748-9424-dc52f183758b",
   "metadata": {},
   "outputs": [
    {
     "data": {
      "text/plain": [
       "[1, 2, 3, 4, 5]"
      ]
     },
     "execution_count": 12,
     "metadata": {},
     "output_type": "execute_result"
    }
   ],
   "source": [
    "#convert a list of strings into a list of numbers\n",
    "strings = ['1', '2', '3', '4', '5']\n",
    "[int(s) for s in strings]"
   ]
  },
  {
   "cell_type": "code",
   "execution_count": 14,
   "id": "761a3a26-bfd5-4ab9-b629-e367a46a3bae",
   "metadata": {},
   "outputs": [
    {
     "data": {
      "text/plain": [
       "[1,\n",
       " 2,\n",
       " 3,\n",
       " 5,\n",
       " 8,\n",
       " 13,\n",
       " 21,\n",
       " 34,\n",
       " 55,\n",
       " 89,\n",
       " 144,\n",
       " 233,\n",
       " 377,\n",
       " 610,\n",
       " 987,\n",
       " 1597,\n",
       " 2584,\n",
       " 4181,\n",
       " 6765]"
      ]
     },
     "execution_count": 14,
     "metadata": {},
     "output_type": "execute_result"
    }
   ],
   "source": [
    "## Generate a list of Fibonacci sequence using a list comprehension\n",
    "fib = [0, 1, 1, 2, 3, 5, 8, 13, 21, 34, 55, 89, 144, 233, 377, 610, 987, 1597, 2584, 4181, 6765]\n",
    "[fib[i-1] + fib[i-2] for i in range(2,len(fib))]"
   ]
  },
  {
   "cell_type": "code",
   "execution_count": 20,
   "id": "1d24f3f0-1df2-40d1-b02d-f6f498868ca4",
   "metadata": {},
   "outputs": [
    {
     "data": {
      "text/plain": [
       "[1, 2, 3, 4, 6, 9, 12, 18, 36]"
      ]
     },
     "execution_count": 20,
     "metadata": {},
     "output_type": "execute_result"
    }
   ],
   "source": [
    "#Generate a list of all the divisors of a number\n",
    "number = 36\n",
    "[i for i in range(1, number+1) if number%i == 0]"
   ]
  }
 ],
 "metadata": {
  "kernelspec": {
   "display_name": "Python [conda env:base] *",
   "language": "python",
   "name": "conda-base-py"
  },
  "language_info": {
   "codemirror_mode": {
    "name": "ipython",
    "version": 3
   },
   "file_extension": ".py",
   "mimetype": "text/x-python",
   "name": "python",
   "nbconvert_exporter": "python",
   "pygments_lexer": "ipython3",
   "version": "3.12.7"
  }
 },
 "nbformat": 4,
 "nbformat_minor": 5
}
