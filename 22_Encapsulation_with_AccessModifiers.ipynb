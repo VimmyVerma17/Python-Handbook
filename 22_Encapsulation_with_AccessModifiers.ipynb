{
 "cells": [
  {
   "cell_type": "markdown",
   "id": "476591aa-fada-4ab4-abcb-8124caa983da",
   "metadata": {},
   "source": [
    "**Encapsulation In Python**\n",
    "\n",
    "Encapsulation is a fundamental principle in object-oriented programming that focuses on bundling data and the methods that operate on that data into a single unit called a class. It allows you to control the access and visibility of the data and methods, providing a way to protect and organize your code"
   ]
  },
  {
   "cell_type": "code",
   "execution_count": 8,
   "id": "8cd1764c-dd14-4ad6-8e28-2dd06db91a0c",
   "metadata": {},
   "outputs": [],
   "source": [
    "#access modifiers\n",
    "#private \n",
    "class Person:\n",
    "    def __init__(self, name, age):\n",
    "        self.__name = name #way to define private access modifier (__)\n",
    "        self.__age = age\n",
    "\n",
    "    def display_info(self):\n",
    "        print(f\"The person name is {self.__name} and age is {self.__age}\")"
   ]
  },
  {
   "cell_type": "code",
   "execution_count": 9,
   "id": "0877a4cf-9552-4e7b-811e-18e3c2ebac79",
   "metadata": {},
   "outputs": [
    {
     "data": {
      "text/plain": [
       "['_Person__age',\n",
       " '_Person__name',\n",
       " '__class__',\n",
       " '__delattr__',\n",
       " '__dict__',\n",
       " '__dir__',\n",
       " '__doc__',\n",
       " '__eq__',\n",
       " '__format__',\n",
       " '__ge__',\n",
       " '__getattribute__',\n",
       " '__getstate__',\n",
       " '__gt__',\n",
       " '__hash__',\n",
       " '__init__',\n",
       " '__init_subclass__',\n",
       " '__le__',\n",
       " '__lt__',\n",
       " '__module__',\n",
       " '__ne__',\n",
       " '__new__',\n",
       " '__reduce__',\n",
       " '__reduce_ex__',\n",
       " '__repr__',\n",
       " '__setattr__',\n",
       " '__sizeof__',\n",
       " '__str__',\n",
       " '__subclasshook__',\n",
       " '__weakref__',\n",
       " 'display_info']"
      ]
     },
     "execution_count": 9,
     "metadata": {},
     "output_type": "execute_result"
    }
   ],
   "source": [
    "person = Person('vimmy', 21)\n",
    "dir(person)"
   ]
  },
  {
   "cell_type": "code",
   "execution_count": 10,
   "id": "6db718d0-0d14-4083-ad2c-0bd353ccaf0f",
   "metadata": {},
   "outputs": [
    {
     "data": {
      "text/plain": [
       "21"
      ]
     },
     "execution_count": 10,
     "metadata": {},
     "output_type": "execute_result"
    }
   ],
   "source": [
    "person._Person__age #not good practice bcoz it can be changed"
   ]
  },
  {
   "cell_type": "code",
   "execution_count": 11,
   "id": "bc041ce7-d077-4182-a49b-8f0c14342d3d",
   "metadata": {},
   "outputs": [
    {
     "name": "stdout",
     "output_type": "stream",
     "text": [
      "The person name is vimmy and age is 21\n"
     ]
    }
   ],
   "source": [
    "person.display_info() #good practice"
   ]
  },
  {
   "cell_type": "code",
   "execution_count": 12,
   "id": "70799b20-3e94-4451-b618-6cdca5384618",
   "metadata": {},
   "outputs": [],
   "source": [
    "#access modifiers\n",
    "#protected \n",
    "class Person:\n",
    "    def __init__(self, name, age):\n",
    "        self._name = name #way to define protected access modifier (_)\n",
    "        self._age = age\n",
    "\n",
    "    def display_info(self):\n",
    "        print(f\"The person name is {self._name} and age is {self._age}\")"
   ]
  },
  {
   "cell_type": "code",
   "execution_count": 13,
   "id": "076b0bc9-a04c-4c8a-9e9c-870c58d0d938",
   "metadata": {},
   "outputs": [],
   "source": [
    "person = Person(\"vimmy\", 21)"
   ]
  },
  {
   "cell_type": "code",
   "execution_count": 14,
   "id": "65126acd-8eaa-483e-90a9-756c6165f88a",
   "metadata": {},
   "outputs": [
    {
     "data": {
      "text/plain": [
       "['__class__',\n",
       " '__delattr__',\n",
       " '__dict__',\n",
       " '__dir__',\n",
       " '__doc__',\n",
       " '__eq__',\n",
       " '__format__',\n",
       " '__ge__',\n",
       " '__getattribute__',\n",
       " '__getstate__',\n",
       " '__gt__',\n",
       " '__hash__',\n",
       " '__init__',\n",
       " '__init_subclass__',\n",
       " '__le__',\n",
       " '__lt__',\n",
       " '__module__',\n",
       " '__ne__',\n",
       " '__new__',\n",
       " '__reduce__',\n",
       " '__reduce_ex__',\n",
       " '__repr__',\n",
       " '__setattr__',\n",
       " '__sizeof__',\n",
       " '__str__',\n",
       " '__subclasshook__',\n",
       " '__weakref__',\n",
       " '_age',\n",
       " '_name',\n",
       " 'display_info']"
      ]
     },
     "execution_count": 14,
     "metadata": {},
     "output_type": "execute_result"
    }
   ],
   "source": [
    "dir(person)"
   ]
  },
  {
   "cell_type": "code",
   "execution_count": 16,
   "id": "fb770c4f-f2dc-4580-8690-32c3af9c1d3c",
   "metadata": {},
   "outputs": [
    {
     "data": {
      "text/plain": [
       "21"
      ]
     },
     "execution_count": 16,
     "metadata": {},
     "output_type": "execute_result"
    }
   ],
   "source": [
    "person._age  #not good practice bcoz it can be changed"
   ]
  },
  {
   "cell_type": "code",
   "execution_count": 20,
   "id": "c8ee696a-eece-4f82-b63f-5c241f822a13",
   "metadata": {},
   "outputs": [],
   "source": [
    "#protected access modifier can only be used in derived class\n",
    "class Student(Person):\n",
    "    def __init__(self, name, age):\n",
    "        super().__init__(name, age)\n",
    "\n",
    "    def display_info(self):\n",
    "        print(f\"The person name is {self._name} and age is {self._age}\")"
   ]
  },
  {
   "cell_type": "code",
   "execution_count": 18,
   "id": "d971ff23-d413-49b1-9da0-76f7c7abd51b",
   "metadata": {},
   "outputs": [],
   "source": [
    "student = Student(\"vimmy\", 21)"
   ]
  },
  {
   "cell_type": "code",
   "execution_count": 19,
   "id": "7c429a24-901a-4366-a371-38d19c0fbca1",
   "metadata": {},
   "outputs": [
    {
     "name": "stdout",
     "output_type": "stream",
     "text": [
      "The person name is vimmy and age is 21\n"
     ]
    }
   ],
   "source": [
    "student.display_info()"
   ]
  },
  {
   "cell_type": "code",
   "execution_count": 22,
   "id": "14143e8c-d551-4a5b-b95d-57894e19270e",
   "metadata": {},
   "outputs": [],
   "source": [
    "#access modifiers\n",
    "#public\n",
    "class Person:\n",
    "    def __init__(self,name,age):\n",
    "        self.name=name\n",
    "        self.age=age"
   ]
  }
 ],
 "metadata": {
  "kernelspec": {
   "display_name": "Python [conda env:base] *",
   "language": "python",
   "name": "conda-base-py"
  },
  "language_info": {
   "codemirror_mode": {
    "name": "ipython",
    "version": 3
   },
   "file_extension": ".py",
   "mimetype": "text/x-python",
   "name": "python",
   "nbconvert_exporter": "python",
   "pygments_lexer": "ipython3",
   "version": "3.12.7"
  }
 },
 "nbformat": 4,
 "nbformat_minor": 5
}
