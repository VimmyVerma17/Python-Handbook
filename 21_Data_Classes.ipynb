{
 "cells": [
  {
   "cell_type": "markdown",
   "id": "7c25a44f-3d15-4859-831e-2488c1cd86a7",
   "metadata": {},
   "source": [
    "**Python Data Classes**\n",
    "\n",
    "In Python, the dataclass decorator is a feature introduced in Python 3.7 that provides a concise way to define classes primarily intended to store data. It automatically generates several special methods, such as init, repr, and eq, based on the class attributes you define. This simplifies the process of creating and working with data-focused classes."
   ]
  },
  {
   "cell_type": "code",
   "execution_count": 3,
   "id": "4105478f-26b8-4502-882c-91faadf622cb",
   "metadata": {},
   "outputs": [
    {
     "name": "stdout",
     "output_type": "stream",
     "text": [
      "<class '__main__.person'>\n"
     ]
    }
   ],
   "source": [
    "class person:\n",
    "    def __init__(self, name, age, profession):\n",
    "        self.name = name\n",
    "        self.age = age\n",
    "        self.profession = profession\n",
    "\n",
    "print(person)"
   ]
  },
  {
   "cell_type": "code",
   "execution_count": 4,
   "id": "80b8b07c-b429-4284-8bbc-119c36c702fe",
   "metadata": {},
   "outputs": [],
   "source": [
    "#instead of making class like this. We can use data classes\n",
    "\n",
    "from dataclasses import dataclass\n",
    "\n",
    "@dataclass\n",
    "class person:\n",
    "    name:str\n",
    "    age:int\n",
    "    profession:str"
   ]
  },
  {
   "cell_type": "markdown",
   "id": "cd9776cb-1482-48c8-a4dd-94c7e2d82810",
   "metadata": {},
   "source": [
    "The @dataclass decorator automatically generates the following methods for you:\n",
    "\n",
    "**init()**: Initializes the object and assigns the provided values to the attributes.\n",
    "\n",
    "**repr()**: Provides a string representation of the object.\n",
    "\n",
    "**eq()**: Implements equality comparison between two objects of the class based on their attributes."
   ]
  },
  {
   "cell_type": "code",
   "execution_count": 6,
   "id": "35176002-d62b-4f6d-92b8-6ddfcb78a9ee",
   "metadata": {},
   "outputs": [
    {
     "name": "stdout",
     "output_type": "stream",
     "text": [
      "person(name='Mohan', age=20, profession='SE')\n"
     ]
    }
   ],
   "source": [
    "person1 = person('Mohan', 20, 'SE')\n",
    "print(person1)"
   ]
  },
  {
   "cell_type": "code",
   "execution_count": 8,
   "id": "310dab46-b0f5-4ba7-bd1d-a926d9ba5f23",
   "metadata": {},
   "outputs": [
    {
     "data": {
      "text/plain": [
       "'Mohan'"
      ]
     },
     "execution_count": 8,
     "metadata": {},
     "output_type": "execute_result"
    }
   ],
   "source": [
    "person1.name"
   ]
  },
  {
   "cell_type": "code",
   "execution_count": 9,
   "id": "2ddb7d72-69c2-413e-9276-ffc53f21dd9a",
   "metadata": {},
   "outputs": [
    {
     "data": {
      "text/plain": [
       "20"
      ]
     },
     "execution_count": 9,
     "metadata": {},
     "output_type": "execute_result"
    }
   ],
   "source": [
    "person1.age"
   ]
  },
  {
   "cell_type": "code",
   "execution_count": 10,
   "id": "69e63dc8-d91c-4852-b4dd-2ee51cfb8d92",
   "metadata": {},
   "outputs": [],
   "source": [
    "@dataclass\n",
    "class rectangle:\n",
    "    width:int\n",
    "    height:int\n",
    "    color:str='white'\n",
    "\n",
    "rectangle1 = rectangle(12, 13)\n",
    "rectangle2 = rectangle(13, 14, 'red') #we can override default value"
   ]
  },
  {
   "cell_type": "code",
   "execution_count": 11,
   "id": "62321b40-da7b-44b0-9a8f-affe0e6777f9",
   "metadata": {},
   "outputs": [
    {
     "data": {
      "text/plain": [
       "'red'"
      ]
     },
     "execution_count": 11,
     "metadata": {},
     "output_type": "execute_result"
    }
   ],
   "source": [
    "rectangle2.color"
   ]
  },
  {
   "cell_type": "code",
   "execution_count": 12,
   "id": "8eec1a57-7f56-49dd-90ba-949e98fad556",
   "metadata": {},
   "outputs": [],
   "source": [
    "@dataclass(frozen = True) #cannot change the value in this property\n",
    "class point:\n",
    "    x:int\n",
    "    y:int"
   ]
  },
  {
   "cell_type": "code",
   "execution_count": 13,
   "id": "05726350-2dd8-46d2-9bd6-655dd8d0d15a",
   "metadata": {},
   "outputs": [],
   "source": [
    "point1 = point(3, 4)"
   ]
  },
  {
   "cell_type": "code",
   "execution_count": 15,
   "id": "6ff3f9a8-f95b-4ab6-a352-f70b9fb0ee67",
   "metadata": {},
   "outputs": [
    {
     "data": {
      "text/plain": [
       "(3, 4)"
      ]
     },
     "execution_count": 15,
     "metadata": {},
     "output_type": "execute_result"
    }
   ],
   "source": [
    "point1.x, point1.y"
   ]
  },
  {
   "cell_type": "code",
   "execution_count": 17,
   "id": "e0959c22-d5c0-4103-8af6-11550894cb6a",
   "metadata": {},
   "outputs": [
    {
     "ename": "FrozenInstanceError",
     "evalue": "cannot assign to field 'x'",
     "output_type": "error",
     "traceback": [
      "\u001b[1;31m---------------------------------------------------------------------------\u001b[0m",
      "\u001b[1;31mFrozenInstanceError\u001b[0m                       Traceback (most recent call last)",
      "Cell \u001b[1;32mIn[17], line 1\u001b[0m\n\u001b[1;32m----> 1\u001b[0m point1\u001b[38;5;241m.\u001b[39mx\u001b[38;5;241m=\u001b[39m\u001b[38;5;241m12\u001b[39m\n",
      "File \u001b[1;32m<string>:4\u001b[0m, in \u001b[0;36m__setattr__\u001b[1;34m(self, name, value)\u001b[0m\n",
      "\u001b[1;31mFrozenInstanceError\u001b[0m: cannot assign to field 'x'"
     ]
    }
   ],
   "source": [
    "point1.x=12 #FronzenInstanceError"
   ]
  },
  {
   "cell_type": "code",
   "execution_count": 18,
   "id": "e7ebd844-4714-4e8d-a962-eb1b9be130b1",
   "metadata": {},
   "outputs": [],
   "source": [
    "#Dataclasses in Inheritance\n",
    "@dataclass\n",
    "class person:\n",
    "    name:str\n",
    "    age:int\n",
    "\n",
    "@dataclass\n",
    "class employee(person):\n",
    "    employee_id:int\n",
    "    department:str"
   ]
  },
  {
   "cell_type": "code",
   "execution_count": 19,
   "id": "a4837c84-9afb-4fe2-844a-cdbb4ce13d55",
   "metadata": {},
   "outputs": [],
   "source": [
    "person1 = person('vimmy', 21)\n",
    "employee1 = employee('vimmy', 21, 231, 'Gen AI')"
   ]
  },
  {
   "cell_type": "code",
   "execution_count": 20,
   "id": "220ca8fe-acaa-4a7e-a28a-a0317a910ca8",
   "metadata": {},
   "outputs": [
    {
     "data": {
      "text/plain": [
       "'vimmy'"
      ]
     },
     "execution_count": 20,
     "metadata": {},
     "output_type": "execute_result"
    }
   ],
   "source": [
    "employee1.name"
   ]
  },
  {
   "cell_type": "code",
   "execution_count": 34,
   "id": "a3bb0db4-a5bb-4af6-82cd-68973a350ac2",
   "metadata": {},
   "outputs": [],
   "source": [
    "#nested dataclass\n",
    "@dataclass\n",
    "class Address:\n",
    "    street:str\n",
    "    state:str\n",
    "    zip_code:int\n",
    "\n",
    "@dataclass\n",
    "class Person:\n",
    "    name:str\n",
    "    age:int\n",
    "    address:Address #will take values from address class itself"
   ]
  },
  {
   "cell_type": "code",
   "execution_count": 41,
   "id": "2f496416-3e3c-4e9c-96a1-e366f369a01c",
   "metadata": {},
   "outputs": [],
   "source": [
    "address1 = Address('Club Road Palace Compound', 'Gujarat', 363310)\n",
    "person1 = Person('vimmy', 21, address1)"
   ]
  },
  {
   "cell_type": "code",
   "execution_count": 44,
   "id": "077e04e9-e9d5-4f4a-9786-d374ce7eb438",
   "metadata": {},
   "outputs": [
    {
     "data": {
      "text/plain": [
       "Address(street='Club Road Palace Compound', state='Gujarat', zip_code=363310)"
      ]
     },
     "execution_count": 44,
     "metadata": {},
     "output_type": "execute_result"
    }
   ],
   "source": [
    "person1.address"
   ]
  },
  {
   "cell_type": "code",
   "execution_count": 45,
   "id": "334aac9a-cfd4-462c-bdee-fbae49617b1a",
   "metadata": {},
   "outputs": [
    {
     "name": "stdout",
     "output_type": "stream",
     "text": [
      "Club Road Palace Compound\n"
     ]
    }
   ],
   "source": [
    "print(person1.address.street)"
   ]
  },
  {
   "cell_type": "code",
   "execution_count": 46,
   "id": "c36bef45-f029-4cf8-bc5c-67c168452f78",
   "metadata": {},
   "outputs": [
    {
     "data": {
      "text/plain": [
       "'Gujarat'"
      ]
     },
     "execution_count": 46,
     "metadata": {},
     "output_type": "execute_result"
    }
   ],
   "source": [
    "person1.address.state"
   ]
  }
 ],
 "metadata": {
  "kernelspec": {
   "display_name": "Python [conda env:base] *",
   "language": "python",
   "name": "conda-base-py"
  },
  "language_info": {
   "codemirror_mode": {
    "name": "ipython",
    "version": 3
   },
   "file_extension": ".py",
   "mimetype": "text/x-python",
   "name": "python",
   "nbconvert_exporter": "python",
   "pygments_lexer": "ipython3",
   "version": "3.12.7"
  }
 },
 "nbformat": 4,
 "nbformat_minor": 5
}
