{
 "cells": [
  {
   "cell_type": "code",
   "execution_count": 3,
   "id": "babb6ccb-97ef-4852-9f68-c02fd3a8e681",
   "metadata": {},
   "outputs": [
    {
     "name": "stdout",
     "output_type": "stream",
     "text": [
      "200\n",
      "4\n",
      "Car is used for driving\n"
     ]
    }
   ],
   "source": [
    "class Car:\n",
    "    def __init__(self, windows, doors, enginetype):\n",
    "        self.windows = windows\n",
    "        self.doors = doors\n",
    "        self.enginetype = enginetype\n",
    "\n",
    "    def driving(self):\n",
    "        print(\"Car is used for driving\")\n",
    "\n",
    "#Audi is inherited from class Car\n",
    "class Audi(Car):\n",
    "    def __init__(self, windows, doors, enginetype, horsepower):\n",
    "        super().__init__(windows, doors, enginetype) #super() is used to access attributes from parent class\n",
    "        self.horsepower = horsepower\n",
    "\n",
    "audiq7 = Audi(4, 5, \"diesel\", 200)\n",
    "print(audiq7.horsepower)\n",
    "print(audiq7.windows)\n",
    "audiq7.driving()"
   ]
  },
  {
   "cell_type": "code",
   "execution_count": 4,
   "id": "b05d05a0-8bbc-4c97-9118-d03ff1b115cc",
   "metadata": {},
   "outputs": [
    {
     "name": "stdout",
     "output_type": "stream",
     "text": [
      "<__main__.Car object at 0x00000224222E3FE0>\n",
      "<__main__.Audi object at 0x00000224226D16A0>\n",
      "['__class__', '__delattr__', '__dict__', '__dir__', '__doc__', '__eq__', '__format__', '__ge__', '__getattribute__', '__getstate__', '__gt__', '__hash__', '__init__', '__init_subclass__', '__le__', '__lt__', '__module__', '__ne__', '__new__', '__reduce__', '__reduce_ex__', '__repr__', '__setattr__', '__sizeof__', '__str__', '__subclasshook__', '__weakref__', 'doors', 'driving', 'enginetype', 'windows']\n",
      "['__class__', '__delattr__', '__dict__', '__dir__', '__doc__', '__eq__', '__format__', '__ge__', '__getattribute__', '__getstate__', '__gt__', '__hash__', '__init__', '__init_subclass__', '__le__', '__lt__', '__module__', '__ne__', '__new__', '__reduce__', '__reduce_ex__', '__repr__', '__setattr__', '__sizeof__', '__str__', '__subclasshook__', '__weakref__', 'doors', 'driving', 'enginetype', 'horsepower', 'windows']\n"
     ]
    }
   ],
   "source": [
    "car1 = Car(4, 5, \"diesel\")\n",
    "print(car1)\n",
    "print(audiq7)\n",
    "\n",
    "print(dir(car1))\n",
    "print(dir(audiq7))"
   ]
  }
 ],
 "metadata": {
  "kernelspec": {
   "display_name": "Python [conda env:base] *",
   "language": "python",
   "name": "conda-base-py"
  },
  "language_info": {
   "codemirror_mode": {
    "name": "ipython",
    "version": 3
   },
   "file_extension": ".py",
   "mimetype": "text/x-python",
   "name": "python",
   "nbconvert_exporter": "python",
   "pygments_lexer": "ipython3",
   "version": "3.12.7"
  }
 },
 "nbformat": 4,
 "nbformat_minor": 5
}
