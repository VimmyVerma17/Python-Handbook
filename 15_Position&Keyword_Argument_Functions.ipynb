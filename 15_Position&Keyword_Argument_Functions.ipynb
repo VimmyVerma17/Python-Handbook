{
 "cells": [
  {
   "cell_type": "code",
   "execution_count": 11,
   "id": "08eb4eb8-88d1-4f84-ac9e-688ab4db5750",
   "metadata": {},
   "outputs": [],
   "source": [
    "def hello(name, age):\n",
    "    print(\"Hello, \" + name + \" you are \" + str(age) + \" years old\")"
   ]
  },
  {
   "cell_type": "code",
   "execution_count": 12,
   "id": "7f19c0b9-7a15-4686-9d2a-16d93cf80b0b",
   "metadata": {},
   "outputs": [
    {
     "name": "stdout",
     "output_type": "stream",
     "text": [
      "Hello, vimmy you are 21 years old\n"
     ]
    }
   ],
   "source": [
    "hello(\"vimmy\", 21)"
   ]
  },
  {
   "cell_type": "code",
   "execution_count": 13,
   "id": "1598a27a-7172-4726-ba6b-bb13baa1a40c",
   "metadata": {},
   "outputs": [],
   "source": [
    "def helloo(name, age=22):\n",
    "    print(\"Hello, \" + name + \" you are \" + str(age) + \" years old\")"
   ]
  },
  {
   "cell_type": "code",
   "execution_count": 18,
   "id": "6f243a84-b134-458f-a8a9-7fe7ae18127c",
   "metadata": {},
   "outputs": [
    {
     "name": "stdout",
     "output_type": "stream",
     "text": [
      "Hello, misty you are 22 years old\n",
      "Hello, priya you are 22 years old\n",
      "Hello, mohan you are 25 years old\n"
     ]
    }
   ],
   "source": [
    "helloo(\"misty\")\n",
    "helloo(\"priya\")\n",
    "helloo(\"mohan\", 25)"
   ]
  },
  {
   "cell_type": "code",
   "execution_count": 19,
   "id": "eadfb915-3e52-4b0e-afe0-ad9b771263ed",
   "metadata": {},
   "outputs": [],
   "source": [
    "#args for positional arguments, kwargs for keyword arguments\n",
    "def learn(*args, **kwargs):\n",
    "    print(args)\n",
    "    print(kwargs)"
   ]
  },
  {
   "cell_type": "code",
   "execution_count": 20,
   "id": "d48def8b-2c8c-4130-9717-89b4fa632921",
   "metadata": {},
   "outputs": [
    {
     "name": "stdout",
     "output_type": "stream",
     "text": [
      "('vimmy', 'verma')\n",
      "{'age': 21, 'year': 2004}\n"
     ]
    }
   ],
   "source": [
    "learn(\"vimmy\", \"verma\", age=21, year=2004)"
   ]
  },
  {
   "cell_type": "code",
   "execution_count": 24,
   "id": "19a37f67-7105-4026-ab60-0d6cc1594575",
   "metadata": {},
   "outputs": [
    {
     "name": "stdout",
     "output_type": "stream",
     "text": [
      "(['vimmy', 'verma'], {'age': 21, 'year': 2004})\n",
      "{}\n"
     ]
    }
   ],
   "source": [
    "lst = list(('vimmy', 'verma'))\n",
    "dict_val = {'age': 21, 'year': 2004}\n",
    "learn(lst, dict_val) #considering both as args"
   ]
  },
  {
   "cell_type": "code",
   "execution_count": 23,
   "id": "fa028b76-d8d5-4616-a7c4-2615a8b5d205",
   "metadata": {},
   "outputs": [
    {
     "name": "stdout",
     "output_type": "stream",
     "text": [
      "('vimmy', 'verma')\n",
      "{'age': 21, 'year': 2004}\n"
     ]
    }
   ],
   "source": [
    "learn(*lst, **dict_val)"
   ]
  },
  {
   "cell_type": "code",
   "execution_count": 25,
   "id": "e01884df-7604-4d2e-96dd-a632b6df271b",
   "metadata": {},
   "outputs": [
    {
     "name": "stdout",
     "output_type": "stream",
     "text": [
      "('vimmy', 'verma', '1', '2', '3')\n",
      "{'age': 21, 'year': 2004}\n"
     ]
    }
   ],
   "source": [
    "learn(\"vimmy\", \"verma\", \"1\", \"2\", \"3\", age = 21, year = 2004)"
   ]
  }
 ],
 "metadata": {
  "kernelspec": {
   "display_name": "Python [conda env:base] *",
   "language": "python",
   "name": "conda-base-py"
  },
  "language_info": {
   "codemirror_mode": {
    "name": "ipython",
    "version": 3
   },
   "file_extension": ".py",
   "mimetype": "text/x-python",
   "name": "python",
   "nbconvert_exporter": "python",
   "pygments_lexer": "ipython3",
   "version": "3.12.7"
  }
 },
 "nbformat": 4,
 "nbformat_minor": 5
}
