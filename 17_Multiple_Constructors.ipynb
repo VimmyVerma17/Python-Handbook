{
 "cells": [
  {
   "cell_type": "code",
   "execution_count": 3,
   "id": "64a53d24-ca65-42dd-a55b-d64edbe7ee10",
   "metadata": {},
   "outputs": [
    {
     "ename": "TypeError",
     "evalue": "animal.__init__() missing 1 required positional argument: 'age'",
     "output_type": "error",
     "traceback": [
      "\u001b[1;31m---------------------------------------------------------------------------\u001b[0m",
      "\u001b[1;31mTypeError\u001b[0m                                 Traceback (most recent call last)",
      "Cell \u001b[1;32mIn[3], line 14\u001b[0m\n\u001b[0;32m     11\u001b[0m     \u001b[38;5;28;01mdef\u001b[39;00m \u001b[38;5;21mmake_sound\u001b[39m(\u001b[38;5;28mself\u001b[39m, sound):\n\u001b[0;32m     12\u001b[0m         \u001b[38;5;28;01mreturn\u001b[39;00m \u001b[38;5;124m\"\u001b[39m\u001b[38;5;124mThe animal is \u001b[39m\u001b[38;5;132;01m{}\u001b[39;00m\u001b[38;5;124m and says \u001b[39m\u001b[38;5;132;01m{}\u001b[39;00m\u001b[38;5;124m\"\u001b[39m\u001b[38;5;241m.\u001b[39mformat(\u001b[38;5;28mself\u001b[39m\u001b[38;5;241m.\u001b[39mname, sound)\n\u001b[1;32m---> 14\u001b[0m dog \u001b[38;5;241m=\u001b[39m animal(\u001b[38;5;124m\"\u001b[39m\u001b[38;5;124mdog\u001b[39m\u001b[38;5;124m\"\u001b[39m, \u001b[38;5;124m\"\u001b[39m\u001b[38;5;124mmammals\u001b[39m\u001b[38;5;124m\"\u001b[39m)\n\u001b[0;32m     15\u001b[0m \u001b[38;5;28mprint\u001b[39m(dog)\n",
      "\u001b[1;31mTypeError\u001b[0m: animal.__init__() missing 1 required positional argument: 'age'"
     ]
    }
   ],
   "source": [
    "class animal:\n",
    "    def __init__(self, name, species):\n",
    "        self.name = name\n",
    "        self.species = species\n",
    "\n",
    "    def __init__(self, name, species, age):\n",
    "        self.name = name\n",
    "        self.species = species\n",
    "        self.age = age\n",
    "\n",
    "    def make_sound(self, sound):\n",
    "        return \"The animal is {} and says {}\".format(self.name, sound)\n",
    "\n",
    "dog = animal(\"dog\", \"mammals\")\n",
    "print(dog)\n",
    "\n",
    "#error bcoz 1st constructor is been overridded by 2nd constructor\n",
    "#1st constructor won't work\n",
    "#only the last constructor will work"
   ]
  },
  {
   "cell_type": "code",
   "execution_count": 4,
   "id": "dd10d6a4-f936-4702-9ef3-c794c506abf8",
   "metadata": {},
   "outputs": [
    {
     "name": "stdout",
     "output_type": "stream",
     "text": [
      "<__main__.animal object at 0x00000136B796A810>\n"
     ]
    }
   ],
   "source": [
    "class animal:\n",
    "    def __init__(self, name, species):\n",
    "        self.name = name\n",
    "        self.species = species\n",
    "\n",
    "    def __init__(self, name, species, age):\n",
    "        self.name = name\n",
    "        self.species = species\n",
    "        self.age = age\n",
    "\n",
    "    def make_sound(self, sound):\n",
    "        return \"The animal is {} and says {}\".format(self.name, sound)\n",
    "\n",
    "dog = animal(\"dog\", \"mammals\", 17)\n",
    "print(dog)"
   ]
  },
  {
   "cell_type": "code",
   "execution_count": 10,
   "id": "7a932172-fa9e-4211-a768-cf1941097736",
   "metadata": {},
   "outputs": [
    {
     "name": "stdout",
     "output_type": "stream",
     "text": [
      "dog\n",
      "mammals\n"
     ]
    }
   ],
   "source": [
    "#to overcome this issue we need to use *args i.e. positional argument\n",
    "class animal:\n",
    "    def __init__(self, *args):\n",
    "        if len(args) == 1:\n",
    "            self.name = args[0]\n",
    "        elif len(args) == 2:\n",
    "            self.name = args[0]\n",
    "            self.species = args[1]\n",
    "        elif len(args) == 3:\n",
    "            self.name = args[0]\n",
    "            self.species = args[1]\n",
    "            self.age = args[2]\n",
    "\n",
    "    def make_sound(self, sound):\n",
    "        return \"The animal is {} and says {}\".format(self.name, sound)\n",
    "\n",
    "dog = animal(\"dog\", \"mammals\")\n",
    "print(dog.name)\n",
    "print(dog.species)"
   ]
  }
 ],
 "metadata": {
  "kernelspec": {
   "display_name": "Python [conda env:base] *",
   "language": "python",
   "name": "conda-base-py"
  },
  "language_info": {
   "codemirror_mode": {
    "name": "ipython",
    "version": 3
   },
   "file_extension": ".py",
   "mimetype": "text/x-python",
   "name": "python",
   "nbconvert_exporter": "python",
   "pygments_lexer": "ipython3",
   "version": "3.12.7"
  }
 },
 "nbformat": 4,
 "nbformat_minor": 5
}
