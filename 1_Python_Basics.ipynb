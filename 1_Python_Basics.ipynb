{
 "cells": [
  {
   "cell_type": "code",
   "execution_count": 1,
   "id": "25fd41fc-b2a9-4a25-b9d2-0b4b851a4291",
   "metadata": {},
   "outputs": [
    {
     "name": "stdout",
     "output_type": "stream",
     "text": [
      "Hello World\n"
     ]
    }
   ],
   "source": [
    "print(\"Hello World\")"
   ]
  },
  {
   "cell_type": "code",
   "execution_count": 2,
   "id": "e7ad8996-2e41-4cc0-88ea-141aae5ce382",
   "metadata": {},
   "outputs": [
    {
     "name": "stdout",
     "output_type": "stream",
     "text": [
      "Hii\n"
     ]
    }
   ],
   "source": [
    "#single line comment\n",
    "'''multi line comment\n",
    "multi line comment'''\n",
    "print(\"Hii\")"
   ]
  },
  {
   "cell_type": "code",
   "execution_count": 5,
   "id": "444cb019-e8dc-4871-9926-69e9f0ad7c50",
   "metadata": {},
   "outputs": [
    {
     "data": {
      "text/plain": [
       "int"
      ]
     },
     "execution_count": 5,
     "metadata": {},
     "output_type": "execute_result"
    }
   ],
   "source": [
    "#variable declaration\n",
    "a = 10\n",
    "type(a)"
   ]
  },
  {
   "cell_type": "code",
   "execution_count": 6,
   "id": "8f8ae753-aad1-476a-b64a-0052aa398484",
   "metadata": {},
   "outputs": [
    {
     "name": "stdout",
     "output_type": "stream",
     "text": [
      "10\n"
     ]
    }
   ],
   "source": [
    "print(a)"
   ]
  },
  {
   "cell_type": "code",
   "execution_count": 7,
   "id": "63a67956-e789-45a4-a7c8-873b290831dc",
   "metadata": {},
   "outputs": [],
   "source": [
    "ten = 10\n",
    "name = \"vimmy\""
   ]
  },
  {
   "cell_type": "code",
   "execution_count": 8,
   "id": "877e788d-dec4-4e79-bf1c-1c0e197cabd6",
   "metadata": {},
   "outputs": [
    {
     "data": {
      "text/plain": [
       "str"
      ]
     },
     "execution_count": 8,
     "metadata": {},
     "output_type": "execute_result"
    }
   ],
   "source": [
    "type(name)"
   ]
  },
  {
   "cell_type": "code",
   "execution_count": 13,
   "id": "7eb2237c-aff2-48c6-aa73-e966f0a5d67f",
   "metadata": {},
   "outputs": [
    {
     "name": "stdout",
     "output_type": "stream",
     "text": [
      "30\n"
     ]
    }
   ],
   "source": [
    "#integer\n",
    "a = 10\n",
    "b = 20\n",
    "print(a+b)"
   ]
  },
  {
   "cell_type": "code",
   "execution_count": 12,
   "id": "dac7d451-316c-4704-a2a7-59a22e51f0fb",
   "metadata": {},
   "outputs": [
    {
     "name": "stdout",
     "output_type": "stream",
     "text": [
      "<class 'float'>\n"
     ]
    }
   ],
   "source": [
    "#float\n",
    "a = 90.82\n",
    "print(type(a))"
   ]
  },
  {
   "cell_type": "code",
   "execution_count": 14,
   "id": "52d351a6-3cd6-4b47-8989-6add9eb01fdd",
   "metadata": {},
   "outputs": [
    {
     "data": {
      "text/plain": [
       "10"
      ]
     },
     "execution_count": 14,
     "metadata": {},
     "output_type": "execute_result"
    }
   ],
   "source": [
    "#typecasting- conversion from 1 type to another\n",
    "int(a)"
   ]
  },
  {
   "cell_type": "code",
   "execution_count": 16,
   "id": "1b4c223a-42d2-4fb8-9b76-c62b4cb956d2",
   "metadata": {},
   "outputs": [
    {
     "data": {
      "text/plain": [
       "bool"
      ]
     },
     "execution_count": 16,
     "metadata": {},
     "output_type": "execute_result"
    }
   ],
   "source": [
    "#boolean\n",
    "a = True\n",
    "b = False\n",
    "type(a)"
   ]
  },
  {
   "cell_type": "code",
   "execution_count": 18,
   "id": "667d1a49-d029-4252-b1e1-4317cf532afe",
   "metadata": {},
   "outputs": [
    {
     "data": {
      "text/plain": [
       "True"
      ]
     },
     "execution_count": 18,
     "metadata": {},
     "output_type": "execute_result"
    }
   ],
   "source": [
    "a and b\n",
    "a & b\n",
    "a or b\n",
    "a | b"
   ]
  },
  {
   "cell_type": "code",
   "execution_count": 20,
   "id": "8de61dda-e41f-4786-982a-04eb41d9a221",
   "metadata": {},
   "outputs": [
    {
     "data": {
      "text/plain": [
       "'vimmyverma'"
      ]
     },
     "execution_count": 20,
     "metadata": {},
     "output_type": "execute_result"
    }
   ],
   "source": [
    "name = \"vimmy\"\n",
    "name + \"verma\""
   ]
  },
  {
   "cell_type": "code",
   "execution_count": 21,
   "id": "07c64eb1-500d-4c24-821c-df1a06879c22",
   "metadata": {},
   "outputs": [
    {
     "data": {
      "text/plain": [
       "'vimmy1'"
      ]
     },
     "execution_count": 21,
     "metadata": {},
     "output_type": "execute_result"
    }
   ],
   "source": [
    "name + str(1)"
   ]
  },
  {
   "cell_type": "code",
   "execution_count": 22,
   "id": "b570ea6d-c237-48a5-be5a-61fd378b658c",
   "metadata": {},
   "outputs": [
    {
     "data": {
      "text/plain": [
       "(1-2.3j)"
      ]
     },
     "execution_count": 22,
     "metadata": {},
     "output_type": "execute_result"
    }
   ],
   "source": [
    "#complex numbers\n",
    "i = 1.0  - 2.3j\n",
    "i"
   ]
  },
  {
   "cell_type": "code",
   "execution_count": 23,
   "id": "2e2da0cc-fd48-4b6e-97e9-30af228a9e24",
   "metadata": {},
   "outputs": [
    {
     "name": "stdout",
     "output_type": "stream",
     "text": [
      "1.0 -2.3\n"
     ]
    }
   ],
   "source": [
    "print(i.real, i.imag)"
   ]
  },
  {
   "cell_type": "code",
   "execution_count": 24,
   "id": "f8943189-47ca-4a1f-9b18-ab4774ac108d",
   "metadata": {},
   "outputs": [],
   "source": [
    "#dynamic typing\n",
    "a = 10\n",
    "a = \"vimmy\""
   ]
  },
  {
   "cell_type": "code",
   "execution_count": 25,
   "id": "4af9ed34-23d4-44b0-abab-203bdbc584b2",
   "metadata": {},
   "outputs": [
    {
     "data": {
      "text/plain": [
       "'vimmy1'"
      ]
     },
     "execution_count": 25,
     "metadata": {},
     "output_type": "execute_result"
    }
   ],
   "source": [
    "#strong typing\n",
    "a = \"vimmy\"\n",
    "a + \"1\""
   ]
  },
  {
   "cell_type": "code",
   "execution_count": 27,
   "id": "f710dc0d-f916-44ea-aa44-680f1ba1e5d0",
   "metadata": {},
   "outputs": [
    {
     "name": "stdout",
     "output_type": "stream",
     "text": [
      "The value is: 100\n"
     ]
    }
   ],
   "source": [
    "#string formatting\n",
    "a = 100\n",
    "print(\"The value is:\",a)"
   ]
  },
  {
   "cell_type": "code",
   "execution_count": 29,
   "id": "22ec4b5d-9392-496e-bded-ee5a64b07cf2",
   "metadata": {},
   "outputs": [
    {
     "name": "stdout",
     "output_type": "stream",
     "text": [
      "My first name is vimmy and last name is verma\n"
     ]
    }
   ],
   "source": [
    "first_name = \"vimmy\"\n",
    "last_name = \"verma\"\n",
    "print(\"My first name is {} and last name is {}\".format(first_name, last_name))"
   ]
  },
  {
   "cell_type": "code",
   "execution_count": 30,
   "id": "c33ac9a0-f29e-4933-abb6-0762b78aae83",
   "metadata": {},
   "outputs": [
    {
     "name": "stdin",
     "output_type": "stream",
     "text": [
      "Enter the name: vimmy\n"
     ]
    },
    {
     "data": {
      "text/plain": [
       "'vimmy'"
      ]
     },
     "execution_count": 30,
     "metadata": {},
     "output_type": "execute_result"
    }
   ],
   "source": [
    "#input type\n",
    "input(\"Enter the name:\")"
   ]
  },
  {
   "cell_type": "code",
   "execution_count": 33,
   "id": "68dc386c-7fe0-40ac-9200-dec235d9f671",
   "metadata": {},
   "outputs": [
    {
     "name": "stdin",
     "output_type": "stream",
     "text": [
      "enter 1st num:  34\n",
      "enter 2nd num:  12\n"
     ]
    },
    {
     "name": "stdout",
     "output_type": "stream",
     "text": [
      "3412\n",
      "46\n"
     ]
    }
   ],
   "source": [
    "a = input(\"enter 1st num: \")\n",
    "b = input(\"enter 2nd num: \")\n",
    "print(a+b)\n",
    "print(int(a)+int(b))"
   ]
  },
  {
   "cell_type": "code",
   "execution_count": null,
   "id": "7e311242-954a-417d-b615-ea5719a54ed3",
   "metadata": {},
   "outputs": [],
   "source": []
  }
 ],
 "metadata": {
  "kernelspec": {
   "display_name": "Python [conda env:base] *",
   "language": "python",
   "name": "conda-base-py"
  },
  "language_info": {
   "codemirror_mode": {
    "name": "ipython",
    "version": 3
   },
   "file_extension": ".py",
   "mimetype": "text/x-python",
   "name": "python",
   "nbconvert_exporter": "python",
   "pygments_lexer": "ipython3",
   "version": "3.12.7"
  }
 },
 "nbformat": 4,
 "nbformat_minor": 5
}
