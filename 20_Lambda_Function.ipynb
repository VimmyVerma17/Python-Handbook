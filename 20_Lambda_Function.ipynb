{
 "cells": [
  {
   "cell_type": "markdown",
   "id": "be49028a-da18-407a-8a82-5bb21defbdb6",
   "metadata": {},
   "source": [
    "**Lambda Function In Python**\n",
    "\n",
    "In Python, a lambda function (also called an anonymous function) is a small, anonymous function that can be defined in a single line of code without a name. It is useful when we need a simple function that we don't want to define explicitly using the def keyword. The basic syntax for a lambda function in Python is:\n",
    "\n",
    "lambda arguments: expression\n",
    "Here, arguments refer to the input arguments for the function and expression is a single expression that gets evaluated and returned as the result of the function. The result of the expression is automatically returned by the lambda function, so there's no need to use the return statement."
   ]
  },
  {
   "cell_type": "code",
   "execution_count": 1,
   "id": "13d293e0-41fe-40d7-bcf4-ff3f13249b3c",
   "metadata": {},
   "outputs": [
    {
     "data": {
      "text/plain": [
       "<function __main__.<lambda>(x, y)>"
      ]
     },
     "execution_count": 1,
     "metadata": {},
     "output_type": "execute_result"
    }
   ],
   "source": [
    "f = lambda x,y:x+y\n",
    "f"
   ]
  },
  {
   "cell_type": "code",
   "execution_count": 2,
   "id": "708ecae4-5250-44ae-992a-62fa6e457eb4",
   "metadata": {},
   "outputs": [
    {
     "data": {
      "text/plain": [
       "11"
      ]
     },
     "execution_count": 2,
     "metadata": {},
     "output_type": "execute_result"
    }
   ],
   "source": [
    "5+6"
   ]
  },
  {
   "cell_type": "code",
   "execution_count": 3,
   "id": "f7c67dfe-8083-4f77-9a11-a222d7a86434",
   "metadata": {},
   "outputs": [
    {
     "data": {
      "text/plain": [
       "12"
      ]
     },
     "execution_count": 3,
     "metadata": {},
     "output_type": "execute_result"
    }
   ],
   "source": [
    "mul = lambda x,y:x*y\n",
    "mul(3,4)"
   ]
  },
  {
   "cell_type": "code",
   "execution_count": 4,
   "id": "246798df-ad2d-4e5d-808b-ea20a40eda54",
   "metadata": {},
   "outputs": [
    {
     "data": {
      "text/plain": [
       "11"
      ]
     },
     "execution_count": 4,
     "metadata": {},
     "output_type": "execute_result"
    }
   ],
   "source": [
    "#return len of string\n",
    "str_len = lambda s:len(s)\n",
    "str_len(\"vimmy verma\")"
   ]
  },
  {
   "cell_type": "code",
   "execution_count": 6,
   "id": "1f5ea9ea-1b3b-41ca-ab93-0966f87764c8",
   "metadata": {},
   "outputs": [
    {
     "name": "stdout",
     "output_type": "stream",
     "text": [
      "[1, 4, 9, 16, 25, 36]\n"
     ]
    }
   ],
   "source": [
    "#Convert a list of integers to their corresponding square values\n",
    "numbers = [1,2,3,4,5,6]\n",
    "squares = list(map(lambda x:x**2, numbers))\n",
    "print(squares)"
   ]
  },
  {
   "cell_type": "code",
   "execution_count": 8,
   "id": "1503cf44-cb4d-4824-a0b1-f59ef2ed601a",
   "metadata": {},
   "outputs": [
    {
     "name": "stdout",
     "output_type": "stream",
     "text": [
      "[2, 4, 6]\n"
     ]
    }
   ],
   "source": [
    "#filter out even numbers from a list\n",
    "numbers = [1,2,3,4,5,6]\n",
    "prime = list(filter(lambda x:x%2==0, numbers))\n",
    "print(prime)"
   ]
  },
  {
   "cell_type": "code",
   "execution_count": 10,
   "id": "e0748fdb-926a-409e-a973-980020aaf16d",
   "metadata": {},
   "outputs": [
    {
     "data": {
      "text/plain": [
       "['date', 'apple', 'banana', 'cherry', 'elderberry']"
      ]
     },
     "execution_count": 10,
     "metadata": {},
     "output_type": "execute_result"
    }
   ],
   "source": [
    "#Sort a list of strings based on their alphabetical characters and  length\n",
    "fruits = ['apple', 'banana', 'cherry', 'date', 'elderberry']\n",
    "sorted(fruits, key = lambda x:len(x))"
   ]
  },
  {
   "cell_type": "code",
   "execution_count": 11,
   "id": "47965146-e906-4932-8c7a-083bc68421cf",
   "metadata": {},
   "outputs": [
    {
     "data": {
      "text/plain": [
       "[{'name': 'Charlie', 'age': 22, 'occupation': 'Intern'},\n",
       " {'name': 'Alice', 'age': 25, 'occupation': 'Engineer'},\n",
       " {'name': 'Dave', 'age': 27, 'occupation': 'Designer'},\n",
       " {'name': 'Bob', 'age': 30, 'occupation': 'Manager'}]"
      ]
     },
     "execution_count": 11,
     "metadata": {},
     "output_type": "execute_result"
    }
   ],
   "source": [
    "#Sort a list of dictionaries based on a specific key\n",
    "people = [\n",
    "    {'name': 'Alice', 'age': 25, 'occupation': 'Engineer'},\n",
    "    {'name': 'Bob', 'age': 30, 'occupation': 'Manager'},\n",
    "    {'name': 'Charlie', 'age': 22, 'occupation': 'Intern'},\n",
    "    {'name': 'Dave', 'age': 27, 'occupation': 'Designer'},\n",
    "]\n",
    "\n",
    "sorted(people, key = lambda x:x['age'])"
   ]
  },
  {
   "cell_type": "code",
   "execution_count": 12,
   "id": "a595ab5d-9f0c-485c-a392-8ccb0ec4c174",
   "metadata": {},
   "outputs": [
    {
     "data": {
      "text/plain": [
       "'b'"
      ]
     },
     "execution_count": 12,
     "metadata": {},
     "output_type": "execute_result"
    }
   ],
   "source": [
    "#Find the maximum value in a dictionary\n",
    "data = {'a': 10, 'b': 20, 'c': 5, 'd': 15}\n",
    "max(data, key = lambda x:data[x])"
   ]
  },
  {
   "cell_type": "code",
   "execution_count": 13,
   "id": "32fab58b-5c80-4c8f-9419-c16982417453",
   "metadata": {},
   "outputs": [
    {
     "name": "stdout",
     "output_type": "stream",
     "text": [
      "a ['apple']\n",
      "b ['banana']\n",
      "c ['cherry']\n",
      "d ['date']\n",
      "e ['elderberry']\n",
      "f ['fig']\n"
     ]
    }
   ],
   "source": [
    "#Group a list of strings based on their first letter\n",
    "from itertools import groupby\n",
    "words = ['apple', 'banana', 'cherry', 'date', 'elderberry', 'fig']\n",
    "groups = groupby(sorted(words), key=lambda x: x[0])\n",
    "for key, group in groups:\n",
    "    print(key, list(group))"
   ]
  }
 ],
 "metadata": {
  "kernelspec": {
   "display_name": "Python [conda env:base] *",
   "language": "python",
   "name": "conda-base-py"
  },
  "language_info": {
   "codemirror_mode": {
    "name": "ipython",
    "version": 3
   },
   "file_extension": ".py",
   "mimetype": "text/x-python",
   "name": "python",
   "nbconvert_exporter": "python",
   "pygments_lexer": "ipython3",
   "version": "3.12.7"
  }
 },
 "nbformat": 4,
 "nbformat_minor": 5
}
