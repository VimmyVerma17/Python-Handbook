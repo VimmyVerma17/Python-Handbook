{
 "cells": [
  {
   "cell_type": "markdown",
   "id": "0c7ade3a-922e-45e8-981c-982b752c4e87",
   "metadata": {},
   "source": [
    "Class - real world entity or object\n",
    "Attributes - properties of a class\n",
    "methods - actions of a class"
   ]
  },
  {
   "cell_type": "code",
   "execution_count": 2,
   "id": "2ce80773-ec31-4c6b-929a-36e4c0f1cd1e",
   "metadata": {},
   "outputs": [
    {
     "name": "stdout",
     "output_type": "stream",
     "text": [
      "<__main__.car object at 0x000001A96D07F1A0>\n"
     ]
    }
   ],
   "source": [
    "class car:\n",
    "    pass\n",
    "    \n",
    "car1 = car()\n",
    "car2 = car()\n",
    "print(car1)"
   ]
  },
  {
   "cell_type": "code",
   "execution_count": 3,
   "id": "c04bd96a-25e4-4ada-958f-3d19b3e24e5d",
   "metadata": {},
   "outputs": [
    {
     "name": "stdout",
     "output_type": "stream",
     "text": [
      "diesel\n",
      "petrol\n"
     ]
    }
   ],
   "source": [
    "car1.windows = 4\n",
    "car1.tyres = 4\n",
    "car1.engine = \"diesel\"\n",
    "\n",
    "car2.windows = 6\n",
    "car2.tyres = 4\n",
    "car2.engine = \"petrol\"\n",
    "\n",
    "print(car1.engine)\n",
    "print(car2.engine)"
   ]
  },
  {
   "cell_type": "code",
   "execution_count": 4,
   "id": "6a22d22f-eaa0-42f8-ab64-6426b8d5e04f",
   "metadata": {},
   "outputs": [
    {
     "name": "stdout",
     "output_type": "stream",
     "text": [
      "['__class__', '__delattr__', '__dict__', '__dir__', '__doc__', '__eq__', '__format__', '__ge__', '__getattribute__', '__getstate__', '__gt__', '__hash__', '__init__', '__init_subclass__', '__le__', '__lt__', '__module__', '__ne__', '__new__', '__reduce__', '__reduce_ex__', '__repr__', '__setattr__', '__sizeof__', '__str__', '__subclasshook__', '__weakref__', 'engine', 'tyres', 'windows']\n"
     ]
    }
   ],
   "source": [
    "print(dir(car1))"
   ]
  },
  {
   "cell_type": "code",
   "execution_count": 8,
   "id": "261a7aef-0dea-4882-afaa-62766995da75",
   "metadata": {},
   "outputs": [
    {
     "name": "stdout",
     "output_type": "stream",
     "text": [
      "4\n",
      "The number of tyres in object Car1 is 4\n"
     ]
    }
   ],
   "source": [
    "#proper way to create a class\n",
    "class Car:\n",
    "    #constructor\n",
    "    def __init__(self, windows, tyres, engine):\n",
    "        self.windows = windows\n",
    "        self.tyres = tyres\n",
    "        self.engine = engine\n",
    "        \n",
    "Car1 = Car(4, 4, \"engine\")\n",
    "print(Car1.tyres)\n",
    "print(\"The number of tyres in object Car1 is {}\".format(Car1.tyres))"
   ]
  },
  {
   "cell_type": "code",
   "execution_count": 12,
   "id": "7914d44a-3e38-43f6-b608-784bb0863db3",
   "metadata": {},
   "outputs": [
    {
     "name": "stdout",
     "output_type": "stream",
     "text": [
      "4\n",
      "The number of tyres in object Car1 is 4\n",
      "The car type is petrol engine\n"
     ]
    }
   ],
   "source": [
    "class Car:\n",
    "    #constructor\n",
    "    def __init__(self, windows, tyres, engine):\n",
    "        self.windows = windows\n",
    "        self.tyres = tyres\n",
    "        self.engine = engine\n",
    "\n",
    "    #method\n",
    "    def self_driving(self):\n",
    "        print(\"The car type is {} engine\".format(self.engine))\n",
    "        \n",
    "Car1 = Car(4, 4, \"petrol\")\n",
    "print(Car1.tyres)\n",
    "print(\"The number of tyres in object Car1 is {}\".format(Car1.tyres))\n",
    "Car1.self_driving()"
   ]
  },
  {
   "cell_type": "code",
   "execution_count": 14,
   "id": "9ea89681-b4f1-4c73-90fc-b1a6bec3a46b",
   "metadata": {},
   "outputs": [
    {
     "name": "stdout",
     "output_type": "stream",
     "text": [
      "4\n",
      "The number of tyres in object Car1 is 4\n",
      "The car type is eletric engine\n"
     ]
    }
   ],
   "source": [
    "class Car:\n",
    "    #constructor\n",
    "    def __init__(self, windows, tyres, engine):\n",
    "        self.windows = windows\n",
    "        self.tyres = tyres\n",
    "        self.engine = engine\n",
    "\n",
    "    #method\n",
    "    def self_driving(self, engine):\n",
    "        print(\"The car type is {} engine\".format(engine))\n",
    "        \n",
    "Car1 = Car(4, 4, \"petrol\")\n",
    "print(Car1.tyres)\n",
    "print(\"The number of tyres in object Car1 is {}\".format(Car1.tyres))\n",
    "Car1.self_driving(\"eletric\")"
   ]
  }
 ],
 "metadata": {
  "kernelspec": {
   "display_name": "Python [conda env:base] *",
   "language": "python",
   "name": "conda-base-py"
  },
  "language_info": {
   "codemirror_mode": {
    "name": "ipython",
    "version": 3
   },
   "file_extension": ".py",
   "mimetype": "text/x-python",
   "name": "python",
   "nbconvert_exporter": "python",
   "pygments_lexer": "ipython3",
   "version": "3.12.7"
  }
 },
 "nbformat": 4,
 "nbformat_minor": 5
}
